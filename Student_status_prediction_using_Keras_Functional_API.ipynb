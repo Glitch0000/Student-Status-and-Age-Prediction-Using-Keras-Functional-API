{
  "nbformat": 4,
  "nbformat_minor": 0,
  "metadata": {
    "colab": {
      "name": "Student status prediction using Keras Functional API",
      "provenance": []
    },
    "kernelspec": {
      "name": "python3",
      "display_name": "Python 3"
    },
    "accelerator": "GPU"
  },
  "cells": [
    {
      "cell_type": "markdown",
      "metadata": {
        "id": "AvvCOGrZk1WH"
      },
      "source": [
        "\r\n",
        "\r\n",
        "# Student status prediction using multiple output models and Keras Functional API\r\n",
        "\r\n",
        "In this example I will use the student performance dataset in order to buil a model that can predict the age of the student and wheather the student in a romantic relationship or not. \r\n",
        "The dataset used in this example is called **[Student Performance Dataset](https://archive.ics.uci.edu/ml/datasets/Student+Performance)** from the **UCI machine learning repository**.\r\n",
        "\r\n",
        "I will model the age of the student estimations as a regression problem and the romantic status detection as a binary classification problem.\r\n"
      ]
    },
    {
      "cell_type": "code",
      "metadata": {
        "id": "z2JKAAG0mpaq"
      },
      "source": [
        "import tensorflow as tf\r\n",
        "from tensorflow.keras.models import Model\r\n",
        "from tensorflow.keras.layers import Dense, Input\r\n",
        "\r\n",
        "import numpy as np\r\n",
        "import matplotlib.pyplot as plt\r\n",
        "import pandas as pd\r\n",
        "from sklearn.model_selection import train_test_split\r\n",
        "from sklearn.metrics import confusion_matrix\r\n",
        "import itertools"
      ],
      "execution_count": 1,
      "outputs": []
    },
    {
      "cell_type": "markdown",
      "metadata": {
        "id": "uJVDrUWEx30c"
      },
      "source": [
        "## Loading the Dataset to a data frame"
      ]
    },
    {
      "cell_type": "code",
      "metadata": {
        "id": "aq4GB1fTx6M4"
      },
      "source": [
        "#URL of the student dataset\r\n",
        "#URL = 'https://archive.ics.uci.edu/ml/machine-learning-databases/00320/student.zip'\r\n",
        "\r\n",
        "# after downloading the csv file and placing it in the directory we can use the data\r\n",
        "#student_df = pd.read_csv('student-mat.csv') this does not work without separating the data\r\n",
        "student_df = pd.read_csv('student-mat.csv', sep=';')"
      ],
      "execution_count": 2,
      "outputs": []
    },
    {
      "cell_type": "code",
      "metadata": {
        "id": "2cuNqgGA3cDN",
        "colab": {
          "base_uri": "https://localhost:8080/"
        },
        "outputId": "3aec6349-cf07-4ec9-e4ca-e3e7b16e44b1"
      },
      "source": [
        "#inspect some data for student \"10\"\r\n",
        "print(student_df.studytime[12])\r\n",
        "print(student_df.romantic[12])"
      ],
      "execution_count": 3,
      "outputs": [
        {
          "output_type": "stream",
          "text": [
            "1\n",
            "no\n"
          ],
          "name": "stdout"
        }
      ]
    },
    {
      "cell_type": "markdown",
      "metadata": {
        "id": "y3bN5yB5YY75"
      },
      "source": [
        "###Showing the data type of the data frame"
      ]
    },
    {
      "cell_type": "code",
      "metadata": {
        "colab": {
          "base_uri": "https://localhost:8080/"
        },
        "id": "6-GDCJ4-XXGK",
        "outputId": "218179d3-4a6d-4c3a-fc81-03ebea35af48"
      },
      "source": [
        "for name, dtype in student_df.dtypes.iteritems():\r\n",
        "    print(name, dtype)"
      ],
      "execution_count": 4,
      "outputs": [
        {
          "output_type": "stream",
          "text": [
            "school object\n",
            "sex object\n",
            "age int64\n",
            "address object\n",
            "famsize object\n",
            "Pstatus object\n",
            "Medu int64\n",
            "Fedu int64\n",
            "Mjob object\n",
            "Fjob object\n",
            "reason object\n",
            "guardian object\n",
            "traveltime int64\n",
            "studytime int64\n",
            "failures int64\n",
            "schoolsup object\n",
            "famsup object\n",
            "paid object\n",
            "activities object\n",
            "nursery object\n",
            "higher object\n",
            "internet object\n",
            "romantic object\n",
            "famrel int64\n",
            "freetime int64\n",
            "goout int64\n",
            "Dalc int64\n",
            "Walc int64\n",
            "health int64\n",
            "absences int64\n",
            "G1 int64\n",
            "G2 int64\n",
            "G3 int64\n"
          ],
          "name": "stdout"
        }
      ]
    },
    {
      "cell_type": "markdown",
      "metadata": {
        "id": "o25UPka9YpBv"
      },
      "source": [
        "## The data frame"
      ]
    },
    {
      "cell_type": "code",
      "metadata": {
        "colab": {
          "base_uri": "https://localhost:8080/",
          "height": 217
        },
        "id": "b4bhOeIBYkLA",
        "outputId": "c9496686-6eed-4c08-9c38-be3ae38010c8"
      },
      "source": [
        "student_df.head()"
      ],
      "execution_count": 5,
      "outputs": [
        {
          "output_type": "execute_result",
          "data": {
            "text/html": [
              "<div>\n",
              "<style scoped>\n",
              "    .dataframe tbody tr th:only-of-type {\n",
              "        vertical-align: middle;\n",
              "    }\n",
              "\n",
              "    .dataframe tbody tr th {\n",
              "        vertical-align: top;\n",
              "    }\n",
              "\n",
              "    .dataframe thead th {\n",
              "        text-align: right;\n",
              "    }\n",
              "</style>\n",
              "<table border=\"1\" class=\"dataframe\">\n",
              "  <thead>\n",
              "    <tr style=\"text-align: right;\">\n",
              "      <th></th>\n",
              "      <th>school</th>\n",
              "      <th>sex</th>\n",
              "      <th>age</th>\n",
              "      <th>address</th>\n",
              "      <th>famsize</th>\n",
              "      <th>Pstatus</th>\n",
              "      <th>Medu</th>\n",
              "      <th>Fedu</th>\n",
              "      <th>Mjob</th>\n",
              "      <th>Fjob</th>\n",
              "      <th>reason</th>\n",
              "      <th>guardian</th>\n",
              "      <th>traveltime</th>\n",
              "      <th>studytime</th>\n",
              "      <th>failures</th>\n",
              "      <th>schoolsup</th>\n",
              "      <th>famsup</th>\n",
              "      <th>paid</th>\n",
              "      <th>activities</th>\n",
              "      <th>nursery</th>\n",
              "      <th>higher</th>\n",
              "      <th>internet</th>\n",
              "      <th>romantic</th>\n",
              "      <th>famrel</th>\n",
              "      <th>freetime</th>\n",
              "      <th>goout</th>\n",
              "      <th>Dalc</th>\n",
              "      <th>Walc</th>\n",
              "      <th>health</th>\n",
              "      <th>absences</th>\n",
              "      <th>G1</th>\n",
              "      <th>G2</th>\n",
              "      <th>G3</th>\n",
              "    </tr>\n",
              "  </thead>\n",
              "  <tbody>\n",
              "    <tr>\n",
              "      <th>0</th>\n",
              "      <td>GP</td>\n",
              "      <td>F</td>\n",
              "      <td>18</td>\n",
              "      <td>U</td>\n",
              "      <td>GT3</td>\n",
              "      <td>A</td>\n",
              "      <td>4</td>\n",
              "      <td>4</td>\n",
              "      <td>at_home</td>\n",
              "      <td>teacher</td>\n",
              "      <td>course</td>\n",
              "      <td>mother</td>\n",
              "      <td>2</td>\n",
              "      <td>2</td>\n",
              "      <td>0</td>\n",
              "      <td>yes</td>\n",
              "      <td>no</td>\n",
              "      <td>no</td>\n",
              "      <td>no</td>\n",
              "      <td>yes</td>\n",
              "      <td>yes</td>\n",
              "      <td>no</td>\n",
              "      <td>no</td>\n",
              "      <td>4</td>\n",
              "      <td>3</td>\n",
              "      <td>4</td>\n",
              "      <td>1</td>\n",
              "      <td>1</td>\n",
              "      <td>3</td>\n",
              "      <td>6</td>\n",
              "      <td>5</td>\n",
              "      <td>6</td>\n",
              "      <td>6</td>\n",
              "    </tr>\n",
              "    <tr>\n",
              "      <th>1</th>\n",
              "      <td>GP</td>\n",
              "      <td>F</td>\n",
              "      <td>17</td>\n",
              "      <td>U</td>\n",
              "      <td>GT3</td>\n",
              "      <td>T</td>\n",
              "      <td>1</td>\n",
              "      <td>1</td>\n",
              "      <td>at_home</td>\n",
              "      <td>other</td>\n",
              "      <td>course</td>\n",
              "      <td>father</td>\n",
              "      <td>1</td>\n",
              "      <td>2</td>\n",
              "      <td>0</td>\n",
              "      <td>no</td>\n",
              "      <td>yes</td>\n",
              "      <td>no</td>\n",
              "      <td>no</td>\n",
              "      <td>no</td>\n",
              "      <td>yes</td>\n",
              "      <td>yes</td>\n",
              "      <td>no</td>\n",
              "      <td>5</td>\n",
              "      <td>3</td>\n",
              "      <td>3</td>\n",
              "      <td>1</td>\n",
              "      <td>1</td>\n",
              "      <td>3</td>\n",
              "      <td>4</td>\n",
              "      <td>5</td>\n",
              "      <td>5</td>\n",
              "      <td>6</td>\n",
              "    </tr>\n",
              "    <tr>\n",
              "      <th>2</th>\n",
              "      <td>GP</td>\n",
              "      <td>F</td>\n",
              "      <td>15</td>\n",
              "      <td>U</td>\n",
              "      <td>LE3</td>\n",
              "      <td>T</td>\n",
              "      <td>1</td>\n",
              "      <td>1</td>\n",
              "      <td>at_home</td>\n",
              "      <td>other</td>\n",
              "      <td>other</td>\n",
              "      <td>mother</td>\n",
              "      <td>1</td>\n",
              "      <td>2</td>\n",
              "      <td>3</td>\n",
              "      <td>yes</td>\n",
              "      <td>no</td>\n",
              "      <td>yes</td>\n",
              "      <td>no</td>\n",
              "      <td>yes</td>\n",
              "      <td>yes</td>\n",
              "      <td>yes</td>\n",
              "      <td>no</td>\n",
              "      <td>4</td>\n",
              "      <td>3</td>\n",
              "      <td>2</td>\n",
              "      <td>2</td>\n",
              "      <td>3</td>\n",
              "      <td>3</td>\n",
              "      <td>10</td>\n",
              "      <td>7</td>\n",
              "      <td>8</td>\n",
              "      <td>10</td>\n",
              "    </tr>\n",
              "    <tr>\n",
              "      <th>3</th>\n",
              "      <td>GP</td>\n",
              "      <td>F</td>\n",
              "      <td>15</td>\n",
              "      <td>U</td>\n",
              "      <td>GT3</td>\n",
              "      <td>T</td>\n",
              "      <td>4</td>\n",
              "      <td>2</td>\n",
              "      <td>health</td>\n",
              "      <td>services</td>\n",
              "      <td>home</td>\n",
              "      <td>mother</td>\n",
              "      <td>1</td>\n",
              "      <td>3</td>\n",
              "      <td>0</td>\n",
              "      <td>no</td>\n",
              "      <td>yes</td>\n",
              "      <td>yes</td>\n",
              "      <td>yes</td>\n",
              "      <td>yes</td>\n",
              "      <td>yes</td>\n",
              "      <td>yes</td>\n",
              "      <td>yes</td>\n",
              "      <td>3</td>\n",
              "      <td>2</td>\n",
              "      <td>2</td>\n",
              "      <td>1</td>\n",
              "      <td>1</td>\n",
              "      <td>5</td>\n",
              "      <td>2</td>\n",
              "      <td>15</td>\n",
              "      <td>14</td>\n",
              "      <td>15</td>\n",
              "    </tr>\n",
              "    <tr>\n",
              "      <th>4</th>\n",
              "      <td>GP</td>\n",
              "      <td>F</td>\n",
              "      <td>16</td>\n",
              "      <td>U</td>\n",
              "      <td>GT3</td>\n",
              "      <td>T</td>\n",
              "      <td>3</td>\n",
              "      <td>3</td>\n",
              "      <td>other</td>\n",
              "      <td>other</td>\n",
              "      <td>home</td>\n",
              "      <td>father</td>\n",
              "      <td>1</td>\n",
              "      <td>2</td>\n",
              "      <td>0</td>\n",
              "      <td>no</td>\n",
              "      <td>yes</td>\n",
              "      <td>yes</td>\n",
              "      <td>no</td>\n",
              "      <td>yes</td>\n",
              "      <td>yes</td>\n",
              "      <td>no</td>\n",
              "      <td>no</td>\n",
              "      <td>4</td>\n",
              "      <td>3</td>\n",
              "      <td>2</td>\n",
              "      <td>1</td>\n",
              "      <td>2</td>\n",
              "      <td>5</td>\n",
              "      <td>4</td>\n",
              "      <td>6</td>\n",
              "      <td>10</td>\n",
              "      <td>10</td>\n",
              "    </tr>\n",
              "  </tbody>\n",
              "</table>\n",
              "</div>"
            ],
            "text/plain": [
              "  school sex  age address famsize Pstatus  ...  Walc  health absences  G1  G2  G3\n",
              "0     GP   F   18       U     GT3       A  ...     1       3        6   5   6   6\n",
              "1     GP   F   17       U     GT3       T  ...     1       3        4   5   5   6\n",
              "2     GP   F   15       U     LE3       T  ...     3       3       10   7   8  10\n",
              "3     GP   F   15       U     GT3       T  ...     1       5        2  15  14  15\n",
              "4     GP   F   16       U     GT3       T  ...     2       5        4   6  10  10\n",
              "\n",
              "[5 rows x 33 columns]"
            ]
          },
          "metadata": {
            "tags": []
          },
          "execution_count": 5
        }
      ]
    },
    {
      "cell_type": "markdown",
      "metadata": {
        "id": "4RkUuz-TkgUY"
      },
      "source": [
        "###Before makig changes on the dataframe lets copy it and perform the changes on the copy."
      ]
    },
    {
      "cell_type": "code",
      "metadata": {
        "id": "0HfJUkyzk72m"
      },
      "source": [
        "df=student_df.copy()"
      ],
      "execution_count": 5,
      "outputs": []
    },
    {
      "cell_type": "markdown",
      "metadata": {
        "id": "pfqe3M4uZiVV"
      },
      "source": [
        "#**Catagorical encoding**\r\n",
        "We need to transform the data that has the type \"object\" in the data frame into float32"
      ]
    },
    {
      "cell_type": "code",
      "metadata": {
        "colab": {
          "base_uri": "https://localhost:8080/",
          "height": 377
        },
        "id": "_jWTL5FmdEoc",
        "outputId": "dc90756d-01fc-4ed6-9b6d-6c9edaa8a087"
      },
      "source": [
        "from sklearn.preprocessing import OrdinalEncoder\r\n",
        "\r\n",
        "ord_enc = OrdinalEncoder()\r\n",
        "df[\"famsize1\"] = ord_enc.fit_transform(df[[\"famsize\"]])\r\n",
        "df[[\"famsize\", \"famsize1\"]].head(11)"
      ],
      "execution_count": 6,
      "outputs": [
        {
          "output_type": "execute_result",
          "data": {
            "text/html": [
              "<div>\n",
              "<style scoped>\n",
              "    .dataframe tbody tr th:only-of-type {\n",
              "        vertical-align: middle;\n",
              "    }\n",
              "\n",
              "    .dataframe tbody tr th {\n",
              "        vertical-align: top;\n",
              "    }\n",
              "\n",
              "    .dataframe thead th {\n",
              "        text-align: right;\n",
              "    }\n",
              "</style>\n",
              "<table border=\"1\" class=\"dataframe\">\n",
              "  <thead>\n",
              "    <tr style=\"text-align: right;\">\n",
              "      <th></th>\n",
              "      <th>famsize</th>\n",
              "      <th>famsize1</th>\n",
              "    </tr>\n",
              "  </thead>\n",
              "  <tbody>\n",
              "    <tr>\n",
              "      <th>0</th>\n",
              "      <td>GT3</td>\n",
              "      <td>0.0</td>\n",
              "    </tr>\n",
              "    <tr>\n",
              "      <th>1</th>\n",
              "      <td>GT3</td>\n",
              "      <td>0.0</td>\n",
              "    </tr>\n",
              "    <tr>\n",
              "      <th>2</th>\n",
              "      <td>LE3</td>\n",
              "      <td>1.0</td>\n",
              "    </tr>\n",
              "    <tr>\n",
              "      <th>3</th>\n",
              "      <td>GT3</td>\n",
              "      <td>0.0</td>\n",
              "    </tr>\n",
              "    <tr>\n",
              "      <th>4</th>\n",
              "      <td>GT3</td>\n",
              "      <td>0.0</td>\n",
              "    </tr>\n",
              "    <tr>\n",
              "      <th>5</th>\n",
              "      <td>LE3</td>\n",
              "      <td>1.0</td>\n",
              "    </tr>\n",
              "    <tr>\n",
              "      <th>6</th>\n",
              "      <td>LE3</td>\n",
              "      <td>1.0</td>\n",
              "    </tr>\n",
              "    <tr>\n",
              "      <th>7</th>\n",
              "      <td>GT3</td>\n",
              "      <td>0.0</td>\n",
              "    </tr>\n",
              "    <tr>\n",
              "      <th>8</th>\n",
              "      <td>LE3</td>\n",
              "      <td>1.0</td>\n",
              "    </tr>\n",
              "    <tr>\n",
              "      <th>9</th>\n",
              "      <td>GT3</td>\n",
              "      <td>0.0</td>\n",
              "    </tr>\n",
              "    <tr>\n",
              "      <th>10</th>\n",
              "      <td>GT3</td>\n",
              "      <td>0.0</td>\n",
              "    </tr>\n",
              "  </tbody>\n",
              "</table>\n",
              "</div>"
            ],
            "text/plain": [
              "   famsize  famsize1\n",
              "0      GT3       0.0\n",
              "1      GT3       0.0\n",
              "2      LE3       1.0\n",
              "3      GT3       0.0\n",
              "4      GT3       0.0\n",
              "5      LE3       1.0\n",
              "6      LE3       1.0\n",
              "7      GT3       0.0\n",
              "8      LE3       1.0\n",
              "9      GT3       0.0\n",
              "10     GT3       0.0"
            ]
          },
          "metadata": {
            "tags": []
          },
          "execution_count": 6
        }
      ]
    },
    {
      "cell_type": "markdown",
      "metadata": {
        "id": "63Gwq7bWfspF"
      },
      "source": [
        "###Repcing"
      ]
    },
    {
      "cell_type": "code",
      "metadata": {
        "colab": {
          "base_uri": "https://localhost:8080/"
        },
        "id": "Mtf7cjSbfy5c",
        "outputId": "821ccb7f-3247-44b0-ece4-1bf75d035bd1"
      },
      "source": [
        "df.pop(\"famsize\")"
      ],
      "execution_count": 7,
      "outputs": [
        {
          "output_type": "execute_result",
          "data": {
            "text/plain": [
              "0      GT3\n",
              "1      GT3\n",
              "2      LE3\n",
              "3      GT3\n",
              "4      GT3\n",
              "      ... \n",
              "390    LE3\n",
              "391    LE3\n",
              "392    GT3\n",
              "393    LE3\n",
              "394    LE3\n",
              "Name: famsize, Length: 395, dtype: object"
            ]
          },
          "metadata": {
            "tags": []
          },
          "execution_count": 7
        }
      ]
    },
    {
      "cell_type": "markdown",
      "metadata": {
        "id": "TBsxeyN9g3sh"
      },
      "source": [
        "###Repeating the process to the other colomns\r\n",
        "First the encoding process"
      ]
    },
    {
      "cell_type": "code",
      "metadata": {
        "id": "Sp5SWl2SIXR-"
      },
      "source": [
        "df[\"Mjob1\"] = ord_enc.fit_transform(df[[\"Mjob\"]])\r\n",
        "df[\"school1\"] = ord_enc.fit_transform(df[[\"school\"]])\r\n",
        "df[\"sex1\"] = ord_enc.fit_transform(df[[\"sex\"]])\r\n",
        "df[\"address1\"] = ord_enc.fit_transform(df[[\"address\"]])\r\n",
        "df[\"Pstatus1\"] = ord_enc.fit_transform(df[[\"Pstatus\"]])\r\n",
        "df[\"Fjob1\"] = ord_enc.fit_transform(df[[\"Fjob\"]])\r\n",
        "df[\"reason1\"] = ord_enc.fit_transform(df[[\"reason\"]])\r\n",
        "df[\"guardian1\"] = ord_enc.fit_transform(df[[\"guardian\"]])\r\n",
        "df[\"schoolsup1\"] = ord_enc.fit_transform(df[[\"schoolsup\"]])\r\n",
        "df[\"famsup1\"] = ord_enc.fit_transform(df[[\"famsup\"]])\r\n",
        "df[\"paid1\"] = ord_enc.fit_transform(df[[\"paid\"]])\r\n",
        "df[\"activities1\"] = ord_enc.fit_transform(df[[\"activities\"]])\r\n",
        "df[\"nursery1\"] = ord_enc.fit_transform(df[[\"nursery\"]])\r\n",
        "df[\"higher1\"] = ord_enc.fit_transform(df[[\"higher\"]])\r\n",
        "df[\"internet1\"] = ord_enc.fit_transform(df[[\"internet\"]])\r\n",
        "df[\"romantic1\"] = ord_enc.fit_transform(df[[\"romantic\"]])"
      ],
      "execution_count": 8,
      "outputs": []
    },
    {
      "cell_type": "markdown",
      "metadata": {
        "id": "phWHAOXvZZ1o"
      },
      "source": [
        "Then we get rid of the unencoded data"
      ]
    },
    {
      "cell_type": "code",
      "metadata": {
        "colab": {
          "base_uri": "https://localhost:8080/"
        },
        "id": "Ep13ExFchB3w",
        "outputId": "29495970-a44d-4e37-ae70-b50f81ca082a"
      },
      "source": [
        "df.pop(\"Mjob\")\r\n",
        "df.pop(\"school\")\r\n",
        "df.pop(\"sex\")\r\n",
        "df.pop(\"address\")\r\n",
        "df.pop(\"Pstatus\")\r\n",
        "df.pop(\"Fjob\")\r\n",
        "df.pop(\"reason\")\r\n",
        "df.pop(\"guardian\")\r\n",
        "df.pop(\"schoolsup\")\r\n",
        "df.pop(\"famsup\")\r\n",
        "df.pop(\"paid\")\r\n",
        "df.pop(\"activities\")\r\n",
        "df.pop(\"nursery\")\r\n",
        "df.pop(\"higher\")\r\n",
        "df.pop(\"internet\")\r\n",
        "df.pop(\"romantic\")"
      ],
      "execution_count": 9,
      "outputs": [
        {
          "output_type": "execute_result",
          "data": {
            "text/plain": [
              "0       no\n",
              "1       no\n",
              "2       no\n",
              "3      yes\n",
              "4       no\n",
              "      ... \n",
              "390     no\n",
              "391     no\n",
              "392     no\n",
              "393     no\n",
              "394     no\n",
              "Name: romantic, Length: 395, dtype: object"
            ]
          },
          "metadata": {
            "tags": []
          },
          "execution_count": 9
        }
      ]
    },
    {
      "cell_type": "code",
      "metadata": {
        "colab": {
          "base_uri": "https://localhost:8080/",
          "height": 426
        },
        "id": "Fv1sc7uGeykY",
        "outputId": "ba0b8117-baf8-448c-9f15-2f13e52148ed"
      },
      "source": [
        "df"
      ],
      "execution_count": 10,
      "outputs": [
        {
          "output_type": "execute_result",
          "data": {
            "text/html": [
              "<div>\n",
              "<style scoped>\n",
              "    .dataframe tbody tr th:only-of-type {\n",
              "        vertical-align: middle;\n",
              "    }\n",
              "\n",
              "    .dataframe tbody tr th {\n",
              "        vertical-align: top;\n",
              "    }\n",
              "\n",
              "    .dataframe thead th {\n",
              "        text-align: right;\n",
              "    }\n",
              "</style>\n",
              "<table border=\"1\" class=\"dataframe\">\n",
              "  <thead>\n",
              "    <tr style=\"text-align: right;\">\n",
              "      <th></th>\n",
              "      <th>age</th>\n",
              "      <th>Medu</th>\n",
              "      <th>Fedu</th>\n",
              "      <th>traveltime</th>\n",
              "      <th>studytime</th>\n",
              "      <th>failures</th>\n",
              "      <th>famrel</th>\n",
              "      <th>freetime</th>\n",
              "      <th>goout</th>\n",
              "      <th>Dalc</th>\n",
              "      <th>Walc</th>\n",
              "      <th>health</th>\n",
              "      <th>absences</th>\n",
              "      <th>G1</th>\n",
              "      <th>G2</th>\n",
              "      <th>G3</th>\n",
              "      <th>famsize1</th>\n",
              "      <th>Mjob1</th>\n",
              "      <th>school1</th>\n",
              "      <th>sex1</th>\n",
              "      <th>address1</th>\n",
              "      <th>Pstatus1</th>\n",
              "      <th>Fjob1</th>\n",
              "      <th>reason1</th>\n",
              "      <th>guardian1</th>\n",
              "      <th>schoolsup1</th>\n",
              "      <th>famsup1</th>\n",
              "      <th>paid1</th>\n",
              "      <th>activities1</th>\n",
              "      <th>nursery1</th>\n",
              "      <th>higher1</th>\n",
              "      <th>internet1</th>\n",
              "      <th>romantic1</th>\n",
              "    </tr>\n",
              "  </thead>\n",
              "  <tbody>\n",
              "    <tr>\n",
              "      <th>0</th>\n",
              "      <td>18</td>\n",
              "      <td>4</td>\n",
              "      <td>4</td>\n",
              "      <td>2</td>\n",
              "      <td>2</td>\n",
              "      <td>0</td>\n",
              "      <td>4</td>\n",
              "      <td>3</td>\n",
              "      <td>4</td>\n",
              "      <td>1</td>\n",
              "      <td>1</td>\n",
              "      <td>3</td>\n",
              "      <td>6</td>\n",
              "      <td>5</td>\n",
              "      <td>6</td>\n",
              "      <td>6</td>\n",
              "      <td>0.0</td>\n",
              "      <td>0.0</td>\n",
              "      <td>0.0</td>\n",
              "      <td>0.0</td>\n",
              "      <td>1.0</td>\n",
              "      <td>0.0</td>\n",
              "      <td>4.0</td>\n",
              "      <td>0.0</td>\n",
              "      <td>1.0</td>\n",
              "      <td>1.0</td>\n",
              "      <td>0.0</td>\n",
              "      <td>0.0</td>\n",
              "      <td>0.0</td>\n",
              "      <td>1.0</td>\n",
              "      <td>1.0</td>\n",
              "      <td>0.0</td>\n",
              "      <td>0.0</td>\n",
              "    </tr>\n",
              "    <tr>\n",
              "      <th>1</th>\n",
              "      <td>17</td>\n",
              "      <td>1</td>\n",
              "      <td>1</td>\n",
              "      <td>1</td>\n",
              "      <td>2</td>\n",
              "      <td>0</td>\n",
              "      <td>5</td>\n",
              "      <td>3</td>\n",
              "      <td>3</td>\n",
              "      <td>1</td>\n",
              "      <td>1</td>\n",
              "      <td>3</td>\n",
              "      <td>4</td>\n",
              "      <td>5</td>\n",
              "      <td>5</td>\n",
              "      <td>6</td>\n",
              "      <td>0.0</td>\n",
              "      <td>0.0</td>\n",
              "      <td>0.0</td>\n",
              "      <td>0.0</td>\n",
              "      <td>1.0</td>\n",
              "      <td>1.0</td>\n",
              "      <td>2.0</td>\n",
              "      <td>0.0</td>\n",
              "      <td>0.0</td>\n",
              "      <td>0.0</td>\n",
              "      <td>1.0</td>\n",
              "      <td>0.0</td>\n",
              "      <td>0.0</td>\n",
              "      <td>0.0</td>\n",
              "      <td>1.0</td>\n",
              "      <td>1.0</td>\n",
              "      <td>0.0</td>\n",
              "    </tr>\n",
              "    <tr>\n",
              "      <th>2</th>\n",
              "      <td>15</td>\n",
              "      <td>1</td>\n",
              "      <td>1</td>\n",
              "      <td>1</td>\n",
              "      <td>2</td>\n",
              "      <td>3</td>\n",
              "      <td>4</td>\n",
              "      <td>3</td>\n",
              "      <td>2</td>\n",
              "      <td>2</td>\n",
              "      <td>3</td>\n",
              "      <td>3</td>\n",
              "      <td>10</td>\n",
              "      <td>7</td>\n",
              "      <td>8</td>\n",
              "      <td>10</td>\n",
              "      <td>1.0</td>\n",
              "      <td>0.0</td>\n",
              "      <td>0.0</td>\n",
              "      <td>0.0</td>\n",
              "      <td>1.0</td>\n",
              "      <td>1.0</td>\n",
              "      <td>2.0</td>\n",
              "      <td>2.0</td>\n",
              "      <td>1.0</td>\n",
              "      <td>1.0</td>\n",
              "      <td>0.0</td>\n",
              "      <td>1.0</td>\n",
              "      <td>0.0</td>\n",
              "      <td>1.0</td>\n",
              "      <td>1.0</td>\n",
              "      <td>1.0</td>\n",
              "      <td>0.0</td>\n",
              "    </tr>\n",
              "    <tr>\n",
              "      <th>3</th>\n",
              "      <td>15</td>\n",
              "      <td>4</td>\n",
              "      <td>2</td>\n",
              "      <td>1</td>\n",
              "      <td>3</td>\n",
              "      <td>0</td>\n",
              "      <td>3</td>\n",
              "      <td>2</td>\n",
              "      <td>2</td>\n",
              "      <td>1</td>\n",
              "      <td>1</td>\n",
              "      <td>5</td>\n",
              "      <td>2</td>\n",
              "      <td>15</td>\n",
              "      <td>14</td>\n",
              "      <td>15</td>\n",
              "      <td>0.0</td>\n",
              "      <td>1.0</td>\n",
              "      <td>0.0</td>\n",
              "      <td>0.0</td>\n",
              "      <td>1.0</td>\n",
              "      <td>1.0</td>\n",
              "      <td>3.0</td>\n",
              "      <td>1.0</td>\n",
              "      <td>1.0</td>\n",
              "      <td>0.0</td>\n",
              "      <td>1.0</td>\n",
              "      <td>1.0</td>\n",
              "      <td>1.0</td>\n",
              "      <td>1.0</td>\n",
              "      <td>1.0</td>\n",
              "      <td>1.0</td>\n",
              "      <td>1.0</td>\n",
              "    </tr>\n",
              "    <tr>\n",
              "      <th>4</th>\n",
              "      <td>16</td>\n",
              "      <td>3</td>\n",
              "      <td>3</td>\n",
              "      <td>1</td>\n",
              "      <td>2</td>\n",
              "      <td>0</td>\n",
              "      <td>4</td>\n",
              "      <td>3</td>\n",
              "      <td>2</td>\n",
              "      <td>1</td>\n",
              "      <td>2</td>\n",
              "      <td>5</td>\n",
              "      <td>4</td>\n",
              "      <td>6</td>\n",
              "      <td>10</td>\n",
              "      <td>10</td>\n",
              "      <td>0.0</td>\n",
              "      <td>2.0</td>\n",
              "      <td>0.0</td>\n",
              "      <td>0.0</td>\n",
              "      <td>1.0</td>\n",
              "      <td>1.0</td>\n",
              "      <td>2.0</td>\n",
              "      <td>1.0</td>\n",
              "      <td>0.0</td>\n",
              "      <td>0.0</td>\n",
              "      <td>1.0</td>\n",
              "      <td>1.0</td>\n",
              "      <td>0.0</td>\n",
              "      <td>1.0</td>\n",
              "      <td>1.0</td>\n",
              "      <td>0.0</td>\n",
              "      <td>0.0</td>\n",
              "    </tr>\n",
              "    <tr>\n",
              "      <th>...</th>\n",
              "      <td>...</td>\n",
              "      <td>...</td>\n",
              "      <td>...</td>\n",
              "      <td>...</td>\n",
              "      <td>...</td>\n",
              "      <td>...</td>\n",
              "      <td>...</td>\n",
              "      <td>...</td>\n",
              "      <td>...</td>\n",
              "      <td>...</td>\n",
              "      <td>...</td>\n",
              "      <td>...</td>\n",
              "      <td>...</td>\n",
              "      <td>...</td>\n",
              "      <td>...</td>\n",
              "      <td>...</td>\n",
              "      <td>...</td>\n",
              "      <td>...</td>\n",
              "      <td>...</td>\n",
              "      <td>...</td>\n",
              "      <td>...</td>\n",
              "      <td>...</td>\n",
              "      <td>...</td>\n",
              "      <td>...</td>\n",
              "      <td>...</td>\n",
              "      <td>...</td>\n",
              "      <td>...</td>\n",
              "      <td>...</td>\n",
              "      <td>...</td>\n",
              "      <td>...</td>\n",
              "      <td>...</td>\n",
              "      <td>...</td>\n",
              "      <td>...</td>\n",
              "    </tr>\n",
              "    <tr>\n",
              "      <th>390</th>\n",
              "      <td>20</td>\n",
              "      <td>2</td>\n",
              "      <td>2</td>\n",
              "      <td>1</td>\n",
              "      <td>2</td>\n",
              "      <td>2</td>\n",
              "      <td>5</td>\n",
              "      <td>5</td>\n",
              "      <td>4</td>\n",
              "      <td>4</td>\n",
              "      <td>5</td>\n",
              "      <td>4</td>\n",
              "      <td>11</td>\n",
              "      <td>9</td>\n",
              "      <td>9</td>\n",
              "      <td>9</td>\n",
              "      <td>1.0</td>\n",
              "      <td>3.0</td>\n",
              "      <td>1.0</td>\n",
              "      <td>1.0</td>\n",
              "      <td>1.0</td>\n",
              "      <td>0.0</td>\n",
              "      <td>3.0</td>\n",
              "      <td>0.0</td>\n",
              "      <td>2.0</td>\n",
              "      <td>0.0</td>\n",
              "      <td>1.0</td>\n",
              "      <td>1.0</td>\n",
              "      <td>0.0</td>\n",
              "      <td>1.0</td>\n",
              "      <td>1.0</td>\n",
              "      <td>0.0</td>\n",
              "      <td>0.0</td>\n",
              "    </tr>\n",
              "    <tr>\n",
              "      <th>391</th>\n",
              "      <td>17</td>\n",
              "      <td>3</td>\n",
              "      <td>1</td>\n",
              "      <td>2</td>\n",
              "      <td>1</td>\n",
              "      <td>0</td>\n",
              "      <td>2</td>\n",
              "      <td>4</td>\n",
              "      <td>5</td>\n",
              "      <td>3</td>\n",
              "      <td>4</td>\n",
              "      <td>2</td>\n",
              "      <td>3</td>\n",
              "      <td>14</td>\n",
              "      <td>16</td>\n",
              "      <td>16</td>\n",
              "      <td>1.0</td>\n",
              "      <td>3.0</td>\n",
              "      <td>1.0</td>\n",
              "      <td>1.0</td>\n",
              "      <td>1.0</td>\n",
              "      <td>1.0</td>\n",
              "      <td>3.0</td>\n",
              "      <td>0.0</td>\n",
              "      <td>1.0</td>\n",
              "      <td>0.0</td>\n",
              "      <td>0.0</td>\n",
              "      <td>0.0</td>\n",
              "      <td>0.0</td>\n",
              "      <td>0.0</td>\n",
              "      <td>1.0</td>\n",
              "      <td>1.0</td>\n",
              "      <td>0.0</td>\n",
              "    </tr>\n",
              "    <tr>\n",
              "      <th>392</th>\n",
              "      <td>21</td>\n",
              "      <td>1</td>\n",
              "      <td>1</td>\n",
              "      <td>1</td>\n",
              "      <td>1</td>\n",
              "      <td>3</td>\n",
              "      <td>5</td>\n",
              "      <td>5</td>\n",
              "      <td>3</td>\n",
              "      <td>3</td>\n",
              "      <td>3</td>\n",
              "      <td>3</td>\n",
              "      <td>3</td>\n",
              "      <td>10</td>\n",
              "      <td>8</td>\n",
              "      <td>7</td>\n",
              "      <td>0.0</td>\n",
              "      <td>2.0</td>\n",
              "      <td>1.0</td>\n",
              "      <td>1.0</td>\n",
              "      <td>0.0</td>\n",
              "      <td>1.0</td>\n",
              "      <td>2.0</td>\n",
              "      <td>0.0</td>\n",
              "      <td>2.0</td>\n",
              "      <td>0.0</td>\n",
              "      <td>0.0</td>\n",
              "      <td>0.0</td>\n",
              "      <td>0.0</td>\n",
              "      <td>0.0</td>\n",
              "      <td>1.0</td>\n",
              "      <td>0.0</td>\n",
              "      <td>0.0</td>\n",
              "    </tr>\n",
              "    <tr>\n",
              "      <th>393</th>\n",
              "      <td>18</td>\n",
              "      <td>3</td>\n",
              "      <td>2</td>\n",
              "      <td>3</td>\n",
              "      <td>1</td>\n",
              "      <td>0</td>\n",
              "      <td>4</td>\n",
              "      <td>4</td>\n",
              "      <td>1</td>\n",
              "      <td>3</td>\n",
              "      <td>4</td>\n",
              "      <td>5</td>\n",
              "      <td>0</td>\n",
              "      <td>11</td>\n",
              "      <td>12</td>\n",
              "      <td>10</td>\n",
              "      <td>1.0</td>\n",
              "      <td>3.0</td>\n",
              "      <td>1.0</td>\n",
              "      <td>1.0</td>\n",
              "      <td>0.0</td>\n",
              "      <td>1.0</td>\n",
              "      <td>2.0</td>\n",
              "      <td>0.0</td>\n",
              "      <td>1.0</td>\n",
              "      <td>0.0</td>\n",
              "      <td>0.0</td>\n",
              "      <td>0.0</td>\n",
              "      <td>0.0</td>\n",
              "      <td>0.0</td>\n",
              "      <td>1.0</td>\n",
              "      <td>1.0</td>\n",
              "      <td>0.0</td>\n",
              "    </tr>\n",
              "    <tr>\n",
              "      <th>394</th>\n",
              "      <td>19</td>\n",
              "      <td>1</td>\n",
              "      <td>1</td>\n",
              "      <td>1</td>\n",
              "      <td>1</td>\n",
              "      <td>0</td>\n",
              "      <td>3</td>\n",
              "      <td>2</td>\n",
              "      <td>3</td>\n",
              "      <td>3</td>\n",
              "      <td>3</td>\n",
              "      <td>5</td>\n",
              "      <td>5</td>\n",
              "      <td>8</td>\n",
              "      <td>9</td>\n",
              "      <td>9</td>\n",
              "      <td>1.0</td>\n",
              "      <td>2.0</td>\n",
              "      <td>1.0</td>\n",
              "      <td>1.0</td>\n",
              "      <td>1.0</td>\n",
              "      <td>1.0</td>\n",
              "      <td>0.0</td>\n",
              "      <td>0.0</td>\n",
              "      <td>0.0</td>\n",
              "      <td>0.0</td>\n",
              "      <td>0.0</td>\n",
              "      <td>0.0</td>\n",
              "      <td>0.0</td>\n",
              "      <td>1.0</td>\n",
              "      <td>1.0</td>\n",
              "      <td>1.0</td>\n",
              "      <td>0.0</td>\n",
              "    </tr>\n",
              "  </tbody>\n",
              "</table>\n",
              "<p>395 rows × 33 columns</p>\n",
              "</div>"
            ],
            "text/plain": [
              "     age  Medu  Fedu  traveltime  ...  nursery1  higher1  internet1  romantic1\n",
              "0     18     4     4           2  ...       1.0      1.0        0.0        0.0\n",
              "1     17     1     1           1  ...       0.0      1.0        1.0        0.0\n",
              "2     15     1     1           1  ...       1.0      1.0        1.0        0.0\n",
              "3     15     4     2           1  ...       1.0      1.0        1.0        1.0\n",
              "4     16     3     3           1  ...       1.0      1.0        0.0        0.0\n",
              "..   ...   ...   ...         ...  ...       ...      ...        ...        ...\n",
              "390   20     2     2           1  ...       1.0      1.0        0.0        0.0\n",
              "391   17     3     1           2  ...       0.0      1.0        1.0        0.0\n",
              "392   21     1     1           1  ...       0.0      1.0        0.0        0.0\n",
              "393   18     3     2           3  ...       0.0      1.0        1.0        0.0\n",
              "394   19     1     1           1  ...       1.0      1.0        1.0        0.0\n",
              "\n",
              "[395 rows x 33 columns]"
            ]
          },
          "metadata": {
            "tags": []
          },
          "execution_count": 10
        }
      ]
    },
    {
      "cell_type": "markdown",
      "metadata": {
        "id": "rVvlZ8eBRMSL"
      },
      "source": [
        "####This will chart the students ages."
      ]
    },
    {
      "cell_type": "code",
      "metadata": {
        "colab": {
          "base_uri": "https://localhost:8080/",
          "height": 264
        },
        "id": "oUIwfKGuRfn4",
        "outputId": "efc3af6f-6144-462b-8394-90cbbf5977cb"
      },
      "source": [
        "student_df['age'].hist(bins=20);"
      ],
      "execution_count": 10,
      "outputs": [
        {
          "output_type": "display_data",
          "data": {
            "image/png": "[encoded data removed]",
            "text/plain": [
              "<Figure size 432x288 with 1 Axes>"
            ]
          },
          "metadata": {
            "tags": [],
            "needs_background": "light"
          }
        }
      ]
    },
    {
      "cell_type": "markdown",
      "metadata": {
        "id": "8DrHhl6rTADG"
      },
      "source": [
        "### Imbalanced data\r\n",
        "You can see from the plot above that the student dataset is imbalanced. \r\n",
        "- Since there are very few observations with age equal to 20, 21 and 22, we can drop these observations from the dataset. \r\n",
        "- That can be done by removing data belonging to all greater than 20."
      ]
    },
    {
      "cell_type": "code",
      "metadata": {
        "id": "3p-EYt9JTbCx"
      },
      "source": [
        "#get data with students ages less than 20\r\n",
        "df = df[(df['age'] < 20)]\r\n",
        "\r\n",
        "# reset index and drop the old one\r\n",
        "df = df.reset_index(drop=True)"
      ],
      "execution_count": 11,
      "outputs": []
    },
    {
      "cell_type": "markdown",
      "metadata": {
        "id": "qjBEaFZdUeQa"
      },
      "source": [
        "####Now lets plot again to see the new dataset"
      ]
    },
    {
      "cell_type": "code",
      "metadata": {
        "colab": {
          "base_uri": "https://localhost:8080/",
          "height": 264
        },
        "id": "Nhz-wvxiUlZ1",
        "outputId": "7170eefe-1d2e-42c0-f880-87a08a1c4fee"
      },
      "source": [
        "df['age'].hist(bins=20);"
      ],
      "execution_count": 12,
      "outputs": [
        {
          "output_type": "display_data",
          "data": {
            "image/png": "[encoded data removed]",
            "text/plain": [
              "<Figure size 432x288 with 1 Axes>"
            ]
          },
          "metadata": {
            "tags": [],
            "needs_background": "light"
          }
        }
      ]
    },
    {
      "cell_type": "markdown",
      "metadata": {
        "id": "9acayYWdVhPP"
      },
      "source": [
        "####This will chart the students romantic status."
      ]
    },
    {
      "cell_type": "code",
      "metadata": {
        "colab": {
          "base_uri": "https://localhost:8080/",
          "height": 264
        },
        "id": "Mg8-NxbKVlzW",
        "outputId": "6e49c208-d1e9-4af9-f8f4-7b6fe171593d"
      },
      "source": [
        "df['romantic1'].hist(bins=20);"
      ],
      "execution_count": 14,
      "outputs": [
        {
          "output_type": "display_data",
          "data": {
            "image/png": "[encoded data removed]",
            "text/plain": [
              "<Figure size 432x288 with 1 Axes>"
            ]
          },
          "metadata": {
            "tags": [],
            "needs_background": "light"
          }
        }
      ]
    },
    {
      "cell_type": "markdown",
      "metadata": {
        "id": "gvlj5fcRVtCu"
      },
      "source": [
        "### Train Test Split\r\n",
        "\r\n",
        "Next, we will split the datasets into training, test and validation datasets.\r\n",
        "- The data frame will be split 80:20 into `train` and `test` sets.\r\n",
        "- The resulting `train` will then be split 80:20 into `train` and `val` sets.\r\n",
        "- The `train_test_split` parameter `test_size` takes a float value that ranges between 0. and 1, and represents the proportion of the dataset that is allocated to the test set.  The rest of the data is allocated to the training set."
      ]
    },
    {
      "cell_type": "code",
      "metadata": {
        "id": "1KCCNuOwWFOf"
      },
      "source": [
        "# split df into 80:20 train and test sets\r\n",
        "train, test = train_test_split(df, test_size=0.2, random_state = 0)\r\n",
        "                               \r\n",
        "# split train into 80:20 train and val sets\r\n",
        "train, val = train_test_split(train, test_size=0.2, random_state = 0)"
      ],
      "execution_count": 13,
      "outputs": []
    },
    {
      "cell_type": "markdown",
      "metadata": {
        "id": "amvh81FuXLca"
      },
      "source": [
        "Exploring the training stats. We will pop the labels 'romantic' and 'age' from the data as these will be used as the labels\r\n"
      ]
    },
    {
      "cell_type": "code",
      "metadata": {
        "id": "X-Mgh5YRXakx"
      },
      "source": [
        "train_stats = train.describe()      #This does not work with data that cointains strings\r\n",
        "train_stats.pop('romantic1')\r\n",
        "train_stats.pop('age')\r\n",
        "train_stats = train_stats.transpose()"
      ],
      "execution_count": 14,
      "outputs": []
    },
    {
      "cell_type": "code",
      "metadata": {
        "colab": {
          "base_uri": "https://localhost:8080/",
          "height": 977
        },
        "id": "nrCGtSlgX7ih",
        "outputId": "f599ecb9-44ab-4ceb-be54-5b01fc29e80c"
      },
      "source": [
        "train_stats"
      ],
      "execution_count": 46,
      "outputs": [
        {
          "output_type": "execute_result",
          "data": {
            "text/html": [
              "<div>\n",
              "<style scoped>\n",
              "    .dataframe tbody tr th:only-of-type {\n",
              "        vertical-align: middle;\n",
              "    }\n",
              "\n",
              "    .dataframe tbody tr th {\n",
              "        vertical-align: top;\n",
              "    }\n",
              "\n",
              "    .dataframe thead th {\n",
              "        text-align: right;\n",
              "    }\n",
              "</style>\n",
              "<table border=\"1\" class=\"dataframe\">\n",
              "  <thead>\n",
              "    <tr style=\"text-align: right;\">\n",
              "      <th></th>\n",
              "      <th>count</th>\n",
              "      <th>mean</th>\n",
              "      <th>std</th>\n",
              "      <th>min</th>\n",
              "      <th>25%</th>\n",
              "      <th>50%</th>\n",
              "      <th>75%</th>\n",
              "      <th>max</th>\n",
              "    </tr>\n",
              "  </thead>\n",
              "  <tbody>\n",
              "    <tr>\n",
              "      <th>Medu</th>\n",
              "      <td>249.0</td>\n",
              "      <td>2.738956</td>\n",
              "      <td>1.110856</td>\n",
              "      <td>0.0</td>\n",
              "      <td>2.0</td>\n",
              "      <td>3.0</td>\n",
              "      <td>4.0</td>\n",
              "      <td>4.0</td>\n",
              "    </tr>\n",
              "    <tr>\n",
              "      <th>Fedu</th>\n",
              "      <td>249.0</td>\n",
              "      <td>2.522088</td>\n",
              "      <td>1.051360</td>\n",
              "      <td>1.0</td>\n",
              "      <td>2.0</td>\n",
              "      <td>3.0</td>\n",
              "      <td>3.0</td>\n",
              "      <td>4.0</td>\n",
              "    </tr>\n",
              "    <tr>\n",
              "      <th>traveltime</th>\n",
              "      <td>249.0</td>\n",
              "      <td>1.473896</td>\n",
              "      <td>0.724236</td>\n",
              "      <td>1.0</td>\n",
              "      <td>1.0</td>\n",
              "      <td>1.0</td>\n",
              "      <td>2.0</td>\n",
              "      <td>4.0</td>\n",
              "    </tr>\n",
              "    <tr>\n",
              "      <th>studytime</th>\n",
              "      <td>249.0</td>\n",
              "      <td>2.024096</td>\n",
              "      <td>0.851601</td>\n",
              "      <td>1.0</td>\n",
              "      <td>1.0</td>\n",
              "      <td>2.0</td>\n",
              "      <td>2.0</td>\n",
              "      <td>4.0</td>\n",
              "    </tr>\n",
              "    <tr>\n",
              "      <th>failures</th>\n",
              "      <td>249.0</td>\n",
              "      <td>0.305221</td>\n",
              "      <td>0.686280</td>\n",
              "      <td>0.0</td>\n",
              "      <td>0.0</td>\n",
              "      <td>0.0</td>\n",
              "      <td>0.0</td>\n",
              "      <td>3.0</td>\n",
              "    </tr>\n",
              "    <tr>\n",
              "      <th>famrel</th>\n",
              "      <td>249.0</td>\n",
              "      <td>3.871486</td>\n",
              "      <td>0.933014</td>\n",
              "      <td>1.0</td>\n",
              "      <td>3.0</td>\n",
              "      <td>4.0</td>\n",
              "      <td>4.0</td>\n",
              "      <td>5.0</td>\n",
              "    </tr>\n",
              "    <tr>\n",
              "      <th>freetime</th>\n",
              "      <td>249.0</td>\n",
              "      <td>3.172691</td>\n",
              "      <td>0.991037</td>\n",
              "      <td>1.0</td>\n",
              "      <td>3.0</td>\n",
              "      <td>3.0</td>\n",
              "      <td>4.0</td>\n",
              "      <td>5.0</td>\n",
              "    </tr>\n",
              "    <tr>\n",
              "      <th>goout</th>\n",
              "      <td>249.0</td>\n",
              "      <td>3.024096</td>\n",
              "      <td>1.128544</td>\n",
              "      <td>1.0</td>\n",
              "      <td>2.0</td>\n",
              "      <td>3.0</td>\n",
              "      <td>4.0</td>\n",
              "      <td>5.0</td>\n",
              "    </tr>\n",
              "    <tr>\n",
              "      <th>Dalc</th>\n",
              "      <td>249.0</td>\n",
              "      <td>1.465863</td>\n",
              "      <td>0.884362</td>\n",
              "      <td>1.0</td>\n",
              "      <td>1.0</td>\n",
              "      <td>1.0</td>\n",
              "      <td>2.0</td>\n",
              "      <td>5.0</td>\n",
              "    </tr>\n",
              "    <tr>\n",
              "      <th>Walc</th>\n",
              "      <td>249.0</td>\n",
              "      <td>2.248996</td>\n",
              "      <td>1.267717</td>\n",
              "      <td>1.0</td>\n",
              "      <td>1.0</td>\n",
              "      <td>2.0</td>\n",
              "      <td>3.0</td>\n",
              "      <td>5.0</td>\n",
              "    </tr>\n",
              "    <tr>\n",
              "      <th>health</th>\n",
              "      <td>249.0</td>\n",
              "      <td>3.477912</td>\n",
              "      <td>1.437023</td>\n",
              "      <td>1.0</td>\n",
              "      <td>2.0</td>\n",
              "      <td>4.0</td>\n",
              "      <td>5.0</td>\n",
              "      <td>5.0</td>\n",
              "    </tr>\n",
              "    <tr>\n",
              "      <th>absences</th>\n",
              "      <td>249.0</td>\n",
              "      <td>5.550201</td>\n",
              "      <td>8.188215</td>\n",
              "      <td>0.0</td>\n",
              "      <td>0.0</td>\n",
              "      <td>3.0</td>\n",
              "      <td>8.0</td>\n",
              "      <td>75.0</td>\n",
              "    </tr>\n",
              "    <tr>\n",
              "      <th>G1</th>\n",
              "      <td>249.0</td>\n",
              "      <td>11.132530</td>\n",
              "      <td>3.385588</td>\n",
              "      <td>4.0</td>\n",
              "      <td>8.0</td>\n",
              "      <td>11.0</td>\n",
              "      <td>14.0</td>\n",
              "      <td>19.0</td>\n",
              "    </tr>\n",
              "    <tr>\n",
              "      <th>G2</th>\n",
              "      <td>249.0</td>\n",
              "      <td>10.919679</td>\n",
              "      <td>3.813386</td>\n",
              "      <td>0.0</td>\n",
              "      <td>9.0</td>\n",
              "      <td>11.0</td>\n",
              "      <td>13.0</td>\n",
              "      <td>19.0</td>\n",
              "    </tr>\n",
              "    <tr>\n",
              "      <th>G3</th>\n",
              "      <td>249.0</td>\n",
              "      <td>10.634538</td>\n",
              "      <td>4.661849</td>\n",
              "      <td>0.0</td>\n",
              "      <td>9.0</td>\n",
              "      <td>11.0</td>\n",
              "      <td>14.0</td>\n",
              "      <td>20.0</td>\n",
              "    </tr>\n",
              "    <tr>\n",
              "      <th>famsize1</th>\n",
              "      <td>249.0</td>\n",
              "      <td>0.305221</td>\n",
              "      <td>0.461428</td>\n",
              "      <td>0.0</td>\n",
              "      <td>0.0</td>\n",
              "      <td>0.0</td>\n",
              "      <td>1.0</td>\n",
              "      <td>1.0</td>\n",
              "    </tr>\n",
              "    <tr>\n",
              "      <th>Mjob1</th>\n",
              "      <td>249.0</td>\n",
              "      <td>2.088353</td>\n",
              "      <td>1.285866</td>\n",
              "      <td>0.0</td>\n",
              "      <td>1.0</td>\n",
              "      <td>2.0</td>\n",
              "      <td>3.0</td>\n",
              "      <td>4.0</td>\n",
              "    </tr>\n",
              "    <tr>\n",
              "      <th>school1</th>\n",
              "      <td>249.0</td>\n",
              "      <td>0.132530</td>\n",
              "      <td>0.339749</td>\n",
              "      <td>0.0</td>\n",
              "      <td>0.0</td>\n",
              "      <td>0.0</td>\n",
              "      <td>0.0</td>\n",
              "      <td>1.0</td>\n",
              "    </tr>\n",
              "    <tr>\n",
              "      <th>sex1</th>\n",
              "      <td>249.0</td>\n",
              "      <td>0.457831</td>\n",
              "      <td>0.499222</td>\n",
              "      <td>0.0</td>\n",
              "      <td>0.0</td>\n",
              "      <td>0.0</td>\n",
              "      <td>1.0</td>\n",
              "      <td>1.0</td>\n",
              "    </tr>\n",
              "    <tr>\n",
              "      <th>address1</th>\n",
              "      <td>249.0</td>\n",
              "      <td>0.771084</td>\n",
              "      <td>0.420981</td>\n",
              "      <td>0.0</td>\n",
              "      <td>1.0</td>\n",
              "      <td>1.0</td>\n",
              "      <td>1.0</td>\n",
              "      <td>1.0</td>\n",
              "    </tr>\n",
              "    <tr>\n",
              "      <th>Pstatus1</th>\n",
              "      <td>249.0</td>\n",
              "      <td>0.899598</td>\n",
              "      <td>0.301140</td>\n",
              "      <td>0.0</td>\n",
              "      <td>1.0</td>\n",
              "      <td>1.0</td>\n",
              "      <td>1.0</td>\n",
              "      <td>1.0</td>\n",
              "    </tr>\n",
              "    <tr>\n",
              "      <th>Fjob1</th>\n",
              "      <td>249.0</td>\n",
              "      <td>2.253012</td>\n",
              "      <td>0.886867</td>\n",
              "      <td>0.0</td>\n",
              "      <td>2.0</td>\n",
              "      <td>2.0</td>\n",
              "      <td>3.0</td>\n",
              "      <td>4.0</td>\n",
              "    </tr>\n",
              "    <tr>\n",
              "      <th>reason1</th>\n",
              "      <td>249.0</td>\n",
              "      <td>1.257028</td>\n",
              "      <td>1.197360</td>\n",
              "      <td>0.0</td>\n",
              "      <td>0.0</td>\n",
              "      <td>1.0</td>\n",
              "      <td>3.0</td>\n",
              "      <td>3.0</td>\n",
              "    </tr>\n",
              "    <tr>\n",
              "      <th>guardian1</th>\n",
              "      <td>249.0</td>\n",
              "      <td>0.827309</td>\n",
              "      <td>0.529662</td>\n",
              "      <td>0.0</td>\n",
              "      <td>1.0</td>\n",
              "      <td>1.0</td>\n",
              "      <td>1.0</td>\n",
              "      <td>2.0</td>\n",
              "    </tr>\n",
              "    <tr>\n",
              "      <th>schoolsup1</th>\n",
              "      <td>249.0</td>\n",
              "      <td>0.132530</td>\n",
              "      <td>0.339749</td>\n",
              "      <td>0.0</td>\n",
              "      <td>0.0</td>\n",
              "      <td>0.0</td>\n",
              "      <td>0.0</td>\n",
              "      <td>1.0</td>\n",
              "    </tr>\n",
              "    <tr>\n",
              "      <th>famsup1</th>\n",
              "      <td>249.0</td>\n",
              "      <td>0.602410</td>\n",
              "      <td>0.490386</td>\n",
              "      <td>0.0</td>\n",
              "      <td>0.0</td>\n",
              "      <td>1.0</td>\n",
              "      <td>1.0</td>\n",
              "      <td>1.0</td>\n",
              "    </tr>\n",
              "    <tr>\n",
              "      <th>paid1</th>\n",
              "      <td>249.0</td>\n",
              "      <td>0.465863</td>\n",
              "      <td>0.499838</td>\n",
              "      <td>0.0</td>\n",
              "      <td>0.0</td>\n",
              "      <td>0.0</td>\n",
              "      <td>1.0</td>\n",
              "      <td>1.0</td>\n",
              "    </tr>\n",
              "    <tr>\n",
              "      <th>activities1</th>\n",
              "      <td>249.0</td>\n",
              "      <td>0.542169</td>\n",
              "      <td>0.499222</td>\n",
              "      <td>0.0</td>\n",
              "      <td>0.0</td>\n",
              "      <td>1.0</td>\n",
              "      <td>1.0</td>\n",
              "      <td>1.0</td>\n",
              "    </tr>\n",
              "    <tr>\n",
              "      <th>nursery1</th>\n",
              "      <td>249.0</td>\n",
              "      <td>0.791165</td>\n",
              "      <td>0.407295</td>\n",
              "      <td>0.0</td>\n",
              "      <td>1.0</td>\n",
              "      <td>1.0</td>\n",
              "      <td>1.0</td>\n",
              "      <td>1.0</td>\n",
              "    </tr>\n",
              "    <tr>\n",
              "      <th>higher1</th>\n",
              "      <td>249.0</td>\n",
              "      <td>0.951807</td>\n",
              "      <td>0.214605</td>\n",
              "      <td>0.0</td>\n",
              "      <td>1.0</td>\n",
              "      <td>1.0</td>\n",
              "      <td>1.0</td>\n",
              "      <td>1.0</td>\n",
              "    </tr>\n",
              "    <tr>\n",
              "      <th>internet1</th>\n",
              "      <td>249.0</td>\n",
              "      <td>0.839357</td>\n",
              "      <td>0.367941</td>\n",
              "      <td>0.0</td>\n",
              "      <td>1.0</td>\n",
              "      <td>1.0</td>\n",
              "      <td>1.0</td>\n",
              "      <td>1.0</td>\n",
              "    </tr>\n",
              "  </tbody>\n",
              "</table>\n",
              "</div>"
            ],
            "text/plain": [
              "             count       mean       std  min  25%   50%   75%   max\n",
              "Medu         249.0   2.738956  1.110856  0.0  2.0   3.0   4.0   4.0\n",
              "Fedu         249.0   2.522088  1.051360  1.0  2.0   3.0   3.0   4.0\n",
              "traveltime   249.0   1.473896  0.724236  1.0  1.0   1.0   2.0   4.0\n",
              "studytime    249.0   2.024096  0.851601  1.0  1.0   2.0   2.0   4.0\n",
              "failures     249.0   0.305221  0.686280  0.0  0.0   0.0   0.0   3.0\n",
              "famrel       249.0   3.871486  0.933014  1.0  3.0   4.0   4.0   5.0\n",
              "freetime     249.0   3.172691  0.991037  1.0  3.0   3.0   4.0   5.0\n",
              "goout        249.0   3.024096  1.128544  1.0  2.0   3.0   4.0   5.0\n",
              "Dalc         249.0   1.465863  0.884362  1.0  1.0   1.0   2.0   5.0\n",
              "Walc         249.0   2.248996  1.267717  1.0  1.0   2.0   3.0   5.0\n",
              "health       249.0   3.477912  1.437023  1.0  2.0   4.0   5.0   5.0\n",
              "absences     249.0   5.550201  8.188215  0.0  0.0   3.0   8.0  75.0\n",
              "G1           249.0  11.132530  3.385588  4.0  8.0  11.0  14.0  19.0\n",
              "G2           249.0  10.919679  3.813386  0.0  9.0  11.0  13.0  19.0\n",
              "G3           249.0  10.634538  4.661849  0.0  9.0  11.0  14.0  20.0\n",
              "famsize1     249.0   0.305221  0.461428  0.0  0.0   0.0   1.0   1.0\n",
              "Mjob1        249.0   2.088353  1.285866  0.0  1.0   2.0   3.0   4.0\n",
              "school1      249.0   0.132530  0.339749  0.0  0.0   0.0   0.0   1.0\n",
              "sex1         249.0   0.457831  0.499222  0.0  0.0   0.0   1.0   1.0\n",
              "address1     249.0   0.771084  0.420981  0.0  1.0   1.0   1.0   1.0\n",
              "Pstatus1     249.0   0.899598  0.301140  0.0  1.0   1.0   1.0   1.0\n",
              "Fjob1        249.0   2.253012  0.886867  0.0  2.0   2.0   3.0   4.0\n",
              "reason1      249.0   1.257028  1.197360  0.0  0.0   1.0   3.0   3.0\n",
              "guardian1    249.0   0.827309  0.529662  0.0  1.0   1.0   1.0   2.0\n",
              "schoolsup1   249.0   0.132530  0.339749  0.0  0.0   0.0   0.0   1.0\n",
              "famsup1      249.0   0.602410  0.490386  0.0  0.0   1.0   1.0   1.0\n",
              "paid1        249.0   0.465863  0.499838  0.0  0.0   0.0   1.0   1.0\n",
              "activities1  249.0   0.542169  0.499222  0.0  0.0   1.0   1.0   1.0\n",
              "nursery1     249.0   0.791165  0.407295  0.0  1.0   1.0   1.0   1.0\n",
              "higher1      249.0   0.951807  0.214605  0.0  1.0   1.0   1.0   1.0\n",
              "internet1    249.0   0.839357  0.367941  0.0  1.0   1.0   1.0   1.0"
            ]
          },
          "metadata": {
            "tags": []
          },
          "execution_count": 46
        }
      ]
    },
    {
      "cell_type": "markdown",
      "metadata": {
        "id": "15VY3DcPetC_"
      },
      "source": [
        "\r\n",
        "\r\n",
        "### Getting the labels\r\n",
        "\r\n",
        "The features and labels are currently in the same dataframe.\r\n",
        "- We want to store the label columns `age` and `romantic` separately from the feature columns.  \r\n",
        "- The following function, `format_output`, gets these two columns from the dataframe.\r\n",
        "- `format_output` also formats the data into numpy arrays. \r\n"
      ]
    },
    {
      "cell_type": "code",
      "metadata": {
        "id": "CuwRBXU0ewJX"
      },
      "source": [
        "def format_output(data):\r\n",
        "    age = data.pop('age')\r\n",
        "    age = np.array(age)\r\n",
        "    romantic1 = data.pop('romantic1')\r\n",
        "    romantic1 = np.array(romantic1)\r\n",
        "    return (age, romantic1)"
      ],
      "execution_count": 15,
      "outputs": []
    },
    {
      "cell_type": "code",
      "metadata": {
        "id": "XVknfUUCfQCU"
      },
      "source": [
        "# format the output of the train set\r\n",
        "train_Y = format_output(train)\r\n",
        "\r\n",
        "# format the output of the val set\r\n",
        "val_Y = format_output(val)\r\n",
        "    \r\n",
        "# format the output of the test set\r\n",
        "test_Y = format_output(test)"
      ],
      "execution_count": 16,
      "outputs": []
    },
    {
      "cell_type": "code",
      "metadata": {
        "colab": {
          "base_uri": "https://localhost:8080/"
        },
        "id": "8eqqDlplNdde",
        "outputId": "6d77412d-45d1-430b-bb75-10e22163ead0"
      },
      "source": [
        "train_Y"
      ],
      "execution_count": 21,
      "outputs": [
        {
          "output_type": "execute_result",
          "data": {
            "text/plain": [
              "(array([17, 15, 15, 16, 18, 18, 16, 16, 17, 17, 17, 15, 17, 15, 16, 17, 19,\n",
              "        17, 16, 18, 18, 16, 16, 17, 18, 16, 18, 15, 16, 17, 19, 15, 17, 16,\n",
              "        16, 19, 18, 17, 18, 18, 18, 15, 17, 17, 19, 17, 16, 16, 16, 18, 15,\n",
              "        18, 18, 15, 18, 16, 15, 15, 17, 17, 17, 18, 15, 17, 16, 16, 17, 16,\n",
              "        16, 17, 17, 16, 16, 17, 17, 17, 16, 16, 18, 17, 17, 18, 18, 15, 15,\n",
              "        15, 15, 19, 15, 15, 17, 18, 15, 18, 17, 16, 15, 17, 19, 18, 15, 16,\n",
              "        18, 15, 15, 16, 15, 15, 17, 15, 15, 18, 19, 15, 19, 18, 16, 19, 16,\n",
              "        18, 16, 19, 18, 17, 18, 18, 16, 18, 18, 17, 16, 18, 15, 17, 18, 16,\n",
              "        19, 15, 16, 18, 15, 16, 18, 16, 18, 15, 17, 17, 18, 16, 18, 16, 16,\n",
              "        15, 17, 18, 18, 16, 17, 18, 17, 18, 17, 18, 16, 16, 16, 16, 17, 16,\n",
              "        15, 18, 15, 15, 16, 18, 16, 15, 15, 19, 15, 17, 16, 16, 15, 18, 19,\n",
              "        19, 15, 19, 16, 17, 15, 15, 17, 19, 16, 16, 15, 18, 15, 18, 15, 17,\n",
              "        15, 19, 16, 17, 16, 15, 16, 15, 17, 18, 16, 17, 17, 17, 16, 15, 16,\n",
              "        16, 15, 18, 15, 15, 18, 15, 18, 17, 15, 16, 16, 15, 17, 16, 17, 16,\n",
              "        17, 18, 17, 16, 16, 18, 18, 15, 16, 17, 16]),\n",
              " array([0., 0., 0., 1., 0., 0., 0., 0., 1., 0., 1., 0., 0., 0., 1., 0., 1.,\n",
              "        1., 0., 1., 0., 0., 0., 0., 0., 0., 1., 0., 0., 1., 1., 0., 1., 0.,\n",
              "        1., 0., 0., 1., 0., 1., 0., 0., 1., 1., 1., 0., 1., 1., 0., 1., 1.,\n",
              "        1., 1., 0., 0., 1., 0., 0., 0., 0., 1., 1., 0., 1., 1., 0., 1., 0.,\n",
              "        1., 1., 0., 0., 0., 0., 0., 0., 0., 0., 0., 1., 0., 0., 0., 0., 0.,\n",
              "        1., 0., 1., 0., 1., 1., 0., 0., 0., 0., 0., 0., 0., 0., 0., 0., 0.,\n",
              "        0., 0., 1., 0., 1., 0., 0., 1., 0., 0., 0., 0., 0., 1., 0., 1., 1.,\n",
              "        0., 1., 1., 0., 1., 1., 0., 0., 1., 0., 1., 0., 0., 0., 1., 0., 0.,\n",
              "        0., 1., 1., 1., 1., 1., 1., 0., 0., 0., 0., 0., 0., 0., 0., 1., 0.,\n",
              "        0., 0., 1., 1., 1., 0., 0., 0., 0., 1., 1., 0., 0., 0., 0., 0., 0.,\n",
              "        0., 1., 0., 0., 0., 1., 0., 1., 0., 1., 0., 1., 0., 0., 0., 1., 1.,\n",
              "        1., 1., 0., 0., 0., 0., 1., 0., 0., 0., 0., 0., 1., 0., 1., 0., 1.,\n",
              "        1., 0., 0., 0., 1., 1., 0., 0., 1., 1., 0., 0., 0., 0., 0., 0., 0.,\n",
              "        0., 0., 0., 0., 0., 1., 0., 1., 1., 0., 1., 0., 1., 0., 0., 1., 0.,\n",
              "        0., 1., 0., 1., 0., 0., 1., 0., 0., 0., 0.]))"
            ]
          },
          "metadata": {
            "tags": []
          },
          "execution_count": 21
        }
      ]
    },
    {
      "cell_type": "markdown",
      "metadata": {
        "id": "B0KCHCq1fV01"
      },
      "source": [
        "After we get the labels, the `train`, `val` and `test` dataframes no longer contain the label columns, and contain just the feature columns.\r\n",
        "- This is because you used `.pop` in the `format_output` function."
      ]
    },
    {
      "cell_type": "code",
      "metadata": {
        "colab": {
          "base_uri": "https://localhost:8080/",
          "height": 217
        },
        "id": "icDu4EikfWbJ",
        "outputId": "a322cd56-4591-409b-bee5-ab7f913af64b"
      },
      "source": [
        "train.head()"
      ],
      "execution_count": 22,
      "outputs": [
        {
          "output_type": "execute_result",
          "data": {
            "text/html": [
              "<div>\n",
              "<style scoped>\n",
              "    .dataframe tbody tr th:only-of-type {\n",
              "        vertical-align: middle;\n",
              "    }\n",
              "\n",
              "    .dataframe tbody tr th {\n",
              "        vertical-align: top;\n",
              "    }\n",
              "\n",
              "    .dataframe thead th {\n",
              "        text-align: right;\n",
              "    }\n",
              "</style>\n",
              "<table border=\"1\" class=\"dataframe\">\n",
              "  <thead>\n",
              "    <tr style=\"text-align: right;\">\n",
              "      <th></th>\n",
              "      <th>Medu</th>\n",
              "      <th>Fedu</th>\n",
              "      <th>traveltime</th>\n",
              "      <th>studytime</th>\n",
              "      <th>failures</th>\n",
              "      <th>famrel</th>\n",
              "      <th>freetime</th>\n",
              "      <th>goout</th>\n",
              "      <th>Dalc</th>\n",
              "      <th>Walc</th>\n",
              "      <th>health</th>\n",
              "      <th>absences</th>\n",
              "      <th>G1</th>\n",
              "      <th>G2</th>\n",
              "      <th>G3</th>\n",
              "      <th>famsize1</th>\n",
              "      <th>Mjob1</th>\n",
              "      <th>school1</th>\n",
              "      <th>sex1</th>\n",
              "      <th>address1</th>\n",
              "      <th>Pstatus1</th>\n",
              "      <th>Fjob1</th>\n",
              "      <th>reason1</th>\n",
              "      <th>guardian1</th>\n",
              "      <th>schoolsup1</th>\n",
              "      <th>famsup1</th>\n",
              "      <th>paid1</th>\n",
              "      <th>activities1</th>\n",
              "      <th>nursery1</th>\n",
              "      <th>higher1</th>\n",
              "      <th>internet1</th>\n",
              "    </tr>\n",
              "  </thead>\n",
              "  <tbody>\n",
              "    <tr>\n",
              "      <th>300</th>\n",
              "      <td>4</td>\n",
              "      <td>4</td>\n",
              "      <td>2</td>\n",
              "      <td>1</td>\n",
              "      <td>0</td>\n",
              "      <td>4</td>\n",
              "      <td>1</td>\n",
              "      <td>1</td>\n",
              "      <td>2</td>\n",
              "      <td>2</td>\n",
              "      <td>5</td>\n",
              "      <td>0</td>\n",
              "      <td>11</td>\n",
              "      <td>11</td>\n",
              "      <td>10</td>\n",
              "      <td>1.0</td>\n",
              "      <td>2.0</td>\n",
              "      <td>0.0</td>\n",
              "      <td>1.0</td>\n",
              "      <td>1.0</td>\n",
              "      <td>1.0</td>\n",
              "      <td>4.0</td>\n",
              "      <td>1.0</td>\n",
              "      <td>0.0</td>\n",
              "      <td>0.0</td>\n",
              "      <td>0.0</td>\n",
              "      <td>1.0</td>\n",
              "      <td>0.0</td>\n",
              "      <td>1.0</td>\n",
              "      <td>1.0</td>\n",
              "      <td>1.0</td>\n",
              "    </tr>\n",
              "    <tr>\n",
              "      <th>113</th>\n",
              "      <td>4</td>\n",
              "      <td>2</td>\n",
              "      <td>1</td>\n",
              "      <td>1</td>\n",
              "      <td>0</td>\n",
              "      <td>3</td>\n",
              "      <td>5</td>\n",
              "      <td>2</td>\n",
              "      <td>1</td>\n",
              "      <td>1</td>\n",
              "      <td>3</td>\n",
              "      <td>10</td>\n",
              "      <td>18</td>\n",
              "      <td>19</td>\n",
              "      <td>19</td>\n",
              "      <td>1.0</td>\n",
              "      <td>4.0</td>\n",
              "      <td>0.0</td>\n",
              "      <td>1.0</td>\n",
              "      <td>1.0</td>\n",
              "      <td>1.0</td>\n",
              "      <td>2.0</td>\n",
              "      <td>0.0</td>\n",
              "      <td>1.0</td>\n",
              "      <td>0.0</td>\n",
              "      <td>0.0</td>\n",
              "      <td>0.0</td>\n",
              "      <td>0.0</td>\n",
              "      <td>1.0</td>\n",
              "      <td>1.0</td>\n",
              "      <td>1.0</td>\n",
              "    </tr>\n",
              "    <tr>\n",
              "      <th>104</th>\n",
              "      <td>3</td>\n",
              "      <td>4</td>\n",
              "      <td>1</td>\n",
              "      <td>2</td>\n",
              "      <td>0</td>\n",
              "      <td>5</td>\n",
              "      <td>4</td>\n",
              "      <td>4</td>\n",
              "      <td>1</td>\n",
              "      <td>1</td>\n",
              "      <td>1</td>\n",
              "      <td>0</td>\n",
              "      <td>16</td>\n",
              "      <td>18</td>\n",
              "      <td>18</td>\n",
              "      <td>0.0</td>\n",
              "      <td>3.0</td>\n",
              "      <td>0.0</td>\n",
              "      <td>1.0</td>\n",
              "      <td>1.0</td>\n",
              "      <td>0.0</td>\n",
              "      <td>2.0</td>\n",
              "      <td>0.0</td>\n",
              "      <td>1.0</td>\n",
              "      <td>0.0</td>\n",
              "      <td>1.0</td>\n",
              "      <td>1.0</td>\n",
              "      <td>1.0</td>\n",
              "      <td>1.0</td>\n",
              "      <td>1.0</td>\n",
              "      <td>1.0</td>\n",
              "    </tr>\n",
              "    <tr>\n",
              "      <th>151</th>\n",
              "      <td>2</td>\n",
              "      <td>1</td>\n",
              "      <td>1</td>\n",
              "      <td>1</td>\n",
              "      <td>1</td>\n",
              "      <td>4</td>\n",
              "      <td>4</td>\n",
              "      <td>4</td>\n",
              "      <td>3</td>\n",
              "      <td>5</td>\n",
              "      <td>5</td>\n",
              "      <td>6</td>\n",
              "      <td>12</td>\n",
              "      <td>13</td>\n",
              "      <td>14</td>\n",
              "      <td>1.0</td>\n",
              "      <td>0.0</td>\n",
              "      <td>0.0</td>\n",
              "      <td>1.0</td>\n",
              "      <td>1.0</td>\n",
              "      <td>1.0</td>\n",
              "      <td>2.0</td>\n",
              "      <td>0.0</td>\n",
              "      <td>1.0</td>\n",
              "      <td>0.0</td>\n",
              "      <td>0.0</td>\n",
              "      <td>0.0</td>\n",
              "      <td>1.0</td>\n",
              "      <td>1.0</td>\n",
              "      <td>1.0</td>\n",
              "      <td>0.0</td>\n",
              "    </tr>\n",
              "    <tr>\n",
              "      <th>381</th>\n",
              "      <td>4</td>\n",
              "      <td>2</td>\n",
              "      <td>2</td>\n",
              "      <td>1</td>\n",
              "      <td>1</td>\n",
              "      <td>5</td>\n",
              "      <td>4</td>\n",
              "      <td>3</td>\n",
              "      <td>4</td>\n",
              "      <td>3</td>\n",
              "      <td>3</td>\n",
              "      <td>14</td>\n",
              "      <td>6</td>\n",
              "      <td>5</td>\n",
              "      <td>5</td>\n",
              "      <td>0.0</td>\n",
              "      <td>2.0</td>\n",
              "      <td>1.0</td>\n",
              "      <td>1.0</td>\n",
              "      <td>0.0</td>\n",
              "      <td>1.0</td>\n",
              "      <td>2.0</td>\n",
              "      <td>1.0</td>\n",
              "      <td>0.0</td>\n",
              "      <td>0.0</td>\n",
              "      <td>0.0</td>\n",
              "      <td>1.0</td>\n",
              "      <td>0.0</td>\n",
              "      <td>1.0</td>\n",
              "      <td>1.0</td>\n",
              "      <td>0.0</td>\n",
              "    </tr>\n",
              "  </tbody>\n",
              "</table>\n",
              "</div>"
            ],
            "text/plain": [
              "     Medu  Fedu  traveltime  ...  nursery1  higher1  internet1\n",
              "300     4     4           2  ...       1.0      1.0        1.0\n",
              "113     4     2           1  ...       1.0      1.0        1.0\n",
              "104     3     4           1  ...       1.0      1.0        1.0\n",
              "151     2     1           1  ...       1.0      1.0        0.0\n",
              "381     4     2           2  ...       1.0      1.0        0.0\n",
              "\n",
              "[5 rows x 31 columns]"
            ]
          },
          "metadata": {
            "tags": []
          },
          "execution_count": 22
        }
      ]
    },
    {
      "cell_type": "markdown",
      "metadata": {
        "id": "hFsIDlKlfk0z"
      },
      "source": [
        "### Normalize the data\r\n",
        "\r\n",
        "Next, we normalize the data, x, using the formula:\r\n",
        "$$x_{norm} = \\frac{x - \\mu}{\\sigma}$$"
      ]
    },
    {
      "cell_type": "code",
      "metadata": {
        "id": "QG-RRbWNflSu"
      },
      "source": [
        "def norm(x):\r\n",
        "    return (x - train_stats['mean']) / train_stats['std']"
      ],
      "execution_count": 17,
      "outputs": []
    },
    {
      "cell_type": "code",
      "metadata": {
        "id": "S_bRgD5Cfoua"
      },
      "source": [
        "# normalize the train set\r\n",
        "norm_train_X = norm(train)\r\n",
        "    \r\n",
        "# normalize the val set\r\n",
        "norm_val_X = norm(val)\r\n",
        "    \r\n",
        "# normalize the test set\r\n",
        "norm_test_X = norm(test)"
      ],
      "execution_count": 18,
      "outputs": []
    },
    {
      "cell_type": "markdown",
      "metadata": {
        "id": "3PdcAcO2fwoi"
      },
      "source": [
        "## Define the Model\r\n",
        "\r\n",
        "Here we difine the model using the functional API. The base model will be 2 `Dense` layers of 128 neurons each, and have the `'relu'` activation.\r\n",
        "- Check out the documentation for [tf.keras.layers.Dense](https://www.tensorflow.org/api_docs/python/tf/keras/layers/Dense)"
      ]
    },
    {
      "cell_type": "code",
      "metadata": {
        "id": "p1av_nynfxS3"
      },
      "source": [
        "def base_model(inputs):\r\n",
        "    \r\n",
        "    # connect a Dense layer with 128 neurons and a relu activation\r\n",
        "    x = Dense(units='128', activation='relu')(inputs)\r\n",
        "    \r\n",
        "    # connect another Dense layer with 128 neurons and a relu activation\r\n",
        "    x = Dense(units='128', activation='relu')(x) \r\n",
        "    return x"
      ],
      "execution_count": 19,
      "outputs": []
    },
    {
      "cell_type": "markdown",
      "metadata": {
        "id": "OXVUwK9yf4M6"
      },
      "source": [
        "### Define output layers of the model\r\n",
        "\r\n",
        "Here we add output layers to the base model. \r\n",
        "- The model will need two outputs.\r\n",
        "\r\n",
        "One output layer will predict the student age, which is a numeric value.\r\n",
        "- Define a `Dense` layer with 1 neuron.\r\n",
        "- Since this is a regression output, the activation can be left as its default value `None`.\r\n",
        "\r\n",
        "The other output layer will predict the student romantic status, which is either in a romantic relationship `1` or not single `0` (white).\r\n",
        "- We define a `Dense` layer with 1 neuron.\r\n",
        "- Since there are two possible categories, you can use a sigmoid activation for binary classification.\r\n"
      ]
    },
    {
      "cell_type": "code",
      "metadata": {
        "id": "eMOPEeFkf56s"
      },
      "source": [
        "def final_model(inputs):\r\n",
        "    \r\n",
        "    # get the base model\r\n",
        "    x = base_model(inputs)\r\n",
        "\r\n",
        "    # connect the output Dense layer for regression\r\n",
        "    student_age = Dense(units='1', name='student_age')(x)\r\n",
        "\r\n",
        "    # connect the output Dense layer for classification. this will use a sigmoid activation.\r\n",
        "    student_romantic = Dense(units='1', activation='sigmoid', name='student_romantic')(x)\r\n",
        "\r\n",
        "    # define the model using the input and output layers\r\n",
        "    model = Model(inputs=inputs, outputs= [student_age, student_romantic])\r\n",
        "\r\n",
        "    return model"
      ],
      "execution_count": 20,
      "outputs": []
    },
    {
      "cell_type": "markdown",
      "metadata": {
        "id": "uA-KsIFsgcoJ"
      },
      "source": [
        "## Compiling the Model\r\n",
        "\r\n",
        "Next, we compile the model. When setting the loss parameter of `model.compile`, we're setting the loss for each of the two outputs (student age and student romantic status).\r\n",
        "\r\n",
        "\r\n",
        "- Student romantic status: Since you will be performing binary classification on wine type, you should use the binary crossentropy loss function for it..  \r\n",
        "  \r\n",
        "- Student age: since this is a regression output, use the mean squared error.\r\n",
        " \r\n",
        "\r\n"
      ]
    },
    {
      "cell_type": "code",
      "metadata": {
        "id": "yLzUt98OgdJH"
      },
      "source": [
        "inputs = tf.keras.layers.Input(shape=(31,))#inputs = tf.keras.layers.Input(shape=(11,))\r\n",
        "rms = tf.keras.optimizers.RMSprop(lr=0.0001)\r\n",
        "model = final_model(inputs)\r\n",
        "\r\n",
        "model.compile(optimizer=rms, \r\n",
        "              loss = {'student_romantic' : 'binary_crossentropy',\r\n",
        "                      'student_age' :'mean_squared_error' \r\n",
        "                     },\r\n",
        "              metrics = {'student_romantic' : 'accuracy',\r\n",
        "                         'student_age': tf.keras.metrics.RootMeanSquaredError()\r\n",
        "                       }\r\n",
        "             )"
      ],
      "execution_count": 21,
      "outputs": []
    },
    {
      "cell_type": "code",
      "metadata": {
        "id": "MB9bljH5OMml"
      },
      "source": [
        "#This is to see what the model expect in order to deal with errors\r\n",
        "[print(i.shape, i.dtype) for i in model.inputs]\r\n",
        "[print(o.shape, o.dtype) for o in model.outputs]\r\n",
        "[print(l.name, l.input_shape, l.dtype) for l in model.layers]"
      ],
      "execution_count": null,
      "outputs": []
    },
    {
      "cell_type": "markdown",
      "metadata": {
        "id": "k9An7HqnPh85"
      },
      "source": [
        "This could be used if we want to convert other data typs into float32"
      ]
    },
    {
      "cell_type": "code",
      "metadata": {
        "id": "47EfbKHEPiay"
      },
      "source": [
        "# train_Y = np.asarray(train_Y).astype(np.float32)\r\n",
        "# test_Y = np.asarray(test_Y).astype(np.float32)\r\n",
        "# norm_train_X = np.asarray(norm_train_X).astype(np.float32)\r\n",
        "# norm_test_X = np.asarray(norm_test_X).astype(np.float32)"
      ],
      "execution_count": 21,
      "outputs": []
    },
    {
      "cell_type": "code",
      "metadata": {
        "colab": {
          "base_uri": "https://localhost:8080/"
        },
        "id": "ZMjpbvzVRgd3",
        "outputId": "401b4bec-46db-405e-aaca-1960ae37d956"
      },
      "source": [
        "type_test=np.array(train)\r\n",
        "type_test.dtype"
      ],
      "execution_count": 22,
      "outputs": [
        {
          "output_type": "execute_result",
          "data": {
            "text/plain": [
              "dtype('int64')"
            ]
          },
          "metadata": {
            "tags": []
          },
          "execution_count": 22
        }
      ]
    },
    {
      "cell_type": "markdown",
      "metadata": {
        "id": "fPpKDINPhGw4"
      },
      "source": [
        "## Training the Model\r\n",
        "\r\n",
        "Using the normalized data"
      ]
    },
    {
      "cell_type": "code",
      "metadata": {
        "colab": {
          "base_uri": "https://localhost:8080/"
        },
        "id": "V1Rp_Nk8hHMM",
        "outputId": "9c474ea1-6a7e-44ba-cf40-467b8f92ffbb"
      },
      "source": [
        "\r\n",
        "history = model.fit(norm_train_X ,train_Y,# norm_train_X instead of train\r\n",
        "                    epochs = 180, validation_data=(norm_test_X , test_Y)) # norm_test_X instead of test"
      ],
      "execution_count": 22,
      "outputs": [
        {
          "output_type": "stream",
          "text": [
            "Epoch 1/180\n",
            "8/8 [==============================] - 3s 76ms/step - loss: 270.8233 - student_age_loss: 270.0948 - student_romantic_loss: 0.7285 - student_age_root_mean_squared_error: 16.4334 - student_romantic_accuracy: 0.4550 - val_loss: 261.8276 - val_student_age_loss: 261.0906 - val_student_romantic_loss: 0.7370 - val_student_age_root_mean_squared_error: 16.1583 - val_student_romantic_accuracy: 0.4872\n",
            "Epoch 2/180\n",
            "8/8 [==============================] - 0s 10ms/step - loss: 258.0868 - student_age_loss: 257.3643 - student_romantic_loss: 0.7225 - student_age_root_mean_squared_error: 16.0425 - student_romantic_accuracy: 0.4927 - val_loss: 254.0011 - val_student_age_loss: 253.2634 - val_student_romantic_loss: 0.7377 - val_student_age_root_mean_squared_error: 15.9143 - val_student_romantic_accuracy: 0.4615\n",
            "Epoch 3/180\n",
            "8/8 [==============================] - 0s 9ms/step - loss: 251.7231 - student_age_loss: 250.9939 - student_romantic_loss: 0.7292 - student_age_root_mean_squared_error: 15.8426 - student_romantic_accuracy: 0.4791 - val_loss: 246.9268 - val_student_age_loss: 246.1882 - val_student_romantic_loss: 0.7387 - val_student_age_root_mean_squared_error: 15.6904 - val_student_romantic_accuracy: 0.4487\n",
            "Epoch 4/180\n",
            "8/8 [==============================] - 0s 10ms/step - loss: 240.8632 - student_age_loss: 240.1522 - student_romantic_loss: 0.7109 - student_age_root_mean_squared_error: 15.4967 - student_romantic_accuracy: 0.5254 - val_loss: 240.1178 - val_student_age_loss: 239.3792 - val_student_romantic_loss: 0.7386 - val_student_age_root_mean_squared_error: 15.4719 - val_student_romantic_accuracy: 0.4615\n",
            "Epoch 5/180\n",
            "8/8 [==============================] - 0s 9ms/step - loss: 234.1407 - student_age_loss: 233.4255 - student_romantic_loss: 0.7152 - student_age_root_mean_squared_error: 15.2783 - student_romantic_accuracy: 0.5050 - val_loss: 233.3677 - val_student_age_loss: 232.6294 - val_student_romantic_loss: 0.7383 - val_student_age_root_mean_squared_error: 15.2522 - val_student_romantic_accuracy: 0.4744\n",
            "Epoch 6/180\n",
            "8/8 [==============================] - 0s 8ms/step - loss: 228.1292 - student_age_loss: 227.4066 - student_romantic_loss: 0.7226 - student_age_root_mean_squared_error: 15.0798 - student_romantic_accuracy: 0.5256 - val_loss: 226.7091 - val_student_age_loss: 225.9716 - val_student_romantic_loss: 0.7374 - val_student_age_root_mean_squared_error: 15.0324 - val_student_romantic_accuracy: 0.4744\n",
            "Epoch 7/180\n",
            "8/8 [==============================] - 0s 9ms/step - loss: 222.9942 - student_age_loss: 222.2809 - student_romantic_loss: 0.7133 - student_age_root_mean_squared_error: 14.9090 - student_romantic_accuracy: 0.5438 - val_loss: 220.0521 - val_student_age_loss: 219.3161 - val_student_romantic_loss: 0.7360 - val_student_age_root_mean_squared_error: 14.8093 - val_student_romantic_accuracy: 0.4872\n",
            "Epoch 8/180\n",
            "8/8 [==============================] - 0s 8ms/step - loss: 215.1523 - student_age_loss: 214.4338 - student_romantic_loss: 0.7185 - student_age_root_mean_squared_error: 14.6435 - student_romantic_accuracy: 0.5025 - val_loss: 213.3619 - val_student_age_loss: 212.6271 - val_student_romantic_loss: 0.7348 - val_student_age_root_mean_squared_error: 14.5817 - val_student_romantic_accuracy: 0.4872\n",
            "Epoch 9/180\n",
            "8/8 [==============================] - 0s 9ms/step - loss: 209.8199 - student_age_loss: 209.1104 - student_romantic_loss: 0.7096 - student_age_root_mean_squared_error: 14.4605 - student_romantic_accuracy: 0.5377 - val_loss: 206.7008 - val_student_age_loss: 205.9682 - val_student_romantic_loss: 0.7326 - val_student_age_root_mean_squared_error: 14.3516 - val_student_romantic_accuracy: 0.4872\n",
            "Epoch 10/180\n",
            "8/8 [==============================] - 0s 8ms/step - loss: 201.5740 - student_age_loss: 200.8571 - student_romantic_loss: 0.7169 - student_age_root_mean_squared_error: 14.1724 - student_romantic_accuracy: 0.4920 - val_loss: 200.0271 - val_student_age_loss: 199.2967 - val_student_romantic_loss: 0.7305 - val_student_age_root_mean_squared_error: 14.1172 - val_student_romantic_accuracy: 0.5000\n",
            "Epoch 11/180\n",
            "8/8 [==============================] - 0s 23ms/step - loss: 196.8673 - student_age_loss: 196.1409 - student_romantic_loss: 0.7264 - student_age_root_mean_squared_error: 14.0046 - student_romantic_accuracy: 0.5050 - val_loss: 193.4015 - val_student_age_loss: 192.6743 - val_student_romantic_loss: 0.7271 - val_student_age_root_mean_squared_error: 13.8807 - val_student_romantic_accuracy: 0.5128\n",
            "Epoch 12/180\n",
            "8/8 [==============================] - 0s 9ms/step - loss: 188.1269 - student_age_loss: 187.3820 - student_romantic_loss: 0.7448 - student_age_root_mean_squared_error: 13.6886 - student_romantic_accuracy: 0.4521 - val_loss: 186.7529 - val_student_age_loss: 186.0300 - val_student_romantic_loss: 0.7229 - val_student_age_root_mean_squared_error: 13.6393 - val_student_romantic_accuracy: 0.5128\n",
            "Epoch 13/180\n",
            "8/8 [==============================] - 0s 7ms/step - loss: 185.7927 - student_age_loss: 185.0930 - student_romantic_loss: 0.6997 - student_age_root_mean_squared_error: 13.6031 - student_romantic_accuracy: 0.5107 - val_loss: 180.1333 - val_student_age_loss: 179.4151 - val_student_romantic_loss: 0.7182 - val_student_age_root_mean_squared_error: 13.3946 - val_student_romantic_accuracy: 0.5256\n",
            "Epoch 14/180\n",
            "8/8 [==============================] - 0s 8ms/step - loss: 178.4796 - student_age_loss: 177.7758 - student_romantic_loss: 0.7038 - student_age_root_mean_squared_error: 13.3329 - student_romantic_accuracy: 0.5178 - val_loss: 173.5094 - val_student_age_loss: 172.7958 - val_student_romantic_loss: 0.7136 - val_student_age_root_mean_squared_error: 13.1452 - val_student_romantic_accuracy: 0.5256\n",
            "Epoch 15/180\n",
            "8/8 [==============================] - 0s 8ms/step - loss: 167.1226 - student_age_loss: 166.4138 - student_romantic_loss: 0.7088 - student_age_root_mean_squared_error: 12.9001 - student_romantic_accuracy: 0.5368 - val_loss: 166.8608 - val_student_age_loss: 166.1523 - val_student_romantic_loss: 0.7085 - val_student_age_root_mean_squared_error: 12.8900 - val_student_romantic_accuracy: 0.5256\n",
            "Epoch 16/180\n",
            "8/8 [==============================] - 0s 8ms/step - loss: 162.3535 - student_age_loss: 161.6474 - student_romantic_loss: 0.7061 - student_age_root_mean_squared_error: 12.7138 - student_romantic_accuracy: 0.5086 - val_loss: 160.2240 - val_student_age_loss: 159.5215 - val_student_romantic_loss: 0.7026 - val_student_age_root_mean_squared_error: 12.6302 - val_student_romantic_accuracy: 0.5256\n",
            "Epoch 17/180\n",
            "8/8 [==============================] - 0s 8ms/step - loss: 158.1701 - student_age_loss: 157.4666 - student_romantic_loss: 0.7035 - student_age_root_mean_squared_error: 12.5481 - student_romantic_accuracy: 0.5631 - val_loss: 153.5985 - val_student_age_loss: 152.9009 - val_student_romantic_loss: 0.6976 - val_student_age_root_mean_squared_error: 12.3653 - val_student_romantic_accuracy: 0.5385\n",
            "Epoch 18/180\n",
            "8/8 [==============================] - 0s 7ms/step - loss: 147.7479 - student_age_loss: 147.0525 - student_romantic_loss: 0.6954 - student_age_root_mean_squared_error: 12.1264 - student_romantic_accuracy: 0.5793 - val_loss: 146.9622 - val_student_age_loss: 146.2694 - val_student_romantic_loss: 0.6928 - val_student_age_root_mean_squared_error: 12.0942 - val_student_romantic_accuracy: 0.5513\n",
            "Epoch 19/180\n",
            "8/8 [==============================] - 0s 8ms/step - loss: 143.3164 - student_age_loss: 142.6273 - student_romantic_loss: 0.6891 - student_age_root_mean_squared_error: 11.9422 - student_romantic_accuracy: 0.5729 - val_loss: 140.3423 - val_student_age_loss: 139.6550 - val_student_romantic_loss: 0.6873 - val_student_age_root_mean_squared_error: 11.8176 - val_student_romantic_accuracy: 0.5641\n",
            "Epoch 20/180\n",
            "8/8 [==============================] - 0s 8ms/step - loss: 135.0221 - student_age_loss: 134.3391 - student_romantic_loss: 0.6830 - student_age_root_mean_squared_error: 11.5904 - student_romantic_accuracy: 0.5844 - val_loss: 133.7617 - val_student_age_loss: 133.0795 - val_student_romantic_loss: 0.6822 - val_student_age_root_mean_squared_error: 11.5360 - val_student_romantic_accuracy: 0.5897\n",
            "Epoch 21/180\n",
            "8/8 [==============================] - 0s 8ms/step - loss: 127.2792 - student_age_loss: 126.5865 - student_romantic_loss: 0.6928 - student_age_root_mean_squared_error: 11.2509 - student_romantic_accuracy: 0.5973 - val_loss: 127.1879 - val_student_age_loss: 126.5105 - val_student_romantic_loss: 0.6773 - val_student_age_root_mean_squared_error: 11.2477 - val_student_romantic_accuracy: 0.6026\n",
            "Epoch 22/180\n",
            "8/8 [==============================] - 0s 8ms/step - loss: 123.0264 - student_age_loss: 122.3454 - student_romantic_loss: 0.6810 - student_age_root_mean_squared_error: 11.0603 - student_romantic_accuracy: 0.5745 - val_loss: 120.7327 - val_student_age_loss: 120.0593 - val_student_romantic_loss: 0.6734 - val_student_age_root_mean_squared_error: 10.9572 - val_student_romantic_accuracy: 0.5897\n",
            "Epoch 23/180\n",
            "8/8 [==============================] - 0s 8ms/step - loss: 118.8545 - student_age_loss: 118.1643 - student_romantic_loss: 0.6902 - student_age_root_mean_squared_error: 10.8696 - student_romantic_accuracy: 0.6010 - val_loss: 114.2695 - val_student_age_loss: 113.6001 - val_student_romantic_loss: 0.6694 - val_student_age_root_mean_squared_error: 10.6583 - val_student_romantic_accuracy: 0.6282\n",
            "Epoch 24/180\n",
            "8/8 [==============================] - 0s 8ms/step - loss: 109.5951 - student_age_loss: 108.9133 - student_romantic_loss: 0.6818 - student_age_root_mean_squared_error: 10.4361 - student_romantic_accuracy: 0.5733 - val_loss: 107.8599 - val_student_age_loss: 107.1943 - val_student_romantic_loss: 0.6657 - val_student_age_root_mean_squared_error: 10.3535 - val_student_romantic_accuracy: 0.6410\n",
            "Epoch 25/180\n",
            "8/8 [==============================] - 0s 8ms/step - loss: 104.5003 - student_age_loss: 103.8012 - student_romantic_loss: 0.6990 - student_age_root_mean_squared_error: 10.1882 - student_romantic_accuracy: 0.5747 - val_loss: 101.5563 - val_student_age_loss: 100.8938 - val_student_romantic_loss: 0.6625 - val_student_age_root_mean_squared_error: 10.0446 - val_student_romantic_accuracy: 0.6538\n",
            "Epoch 26/180\n",
            "8/8 [==============================] - 0s 8ms/step - loss: 97.3315 - student_age_loss: 96.6268 - student_romantic_loss: 0.7047 - student_age_root_mean_squared_error: 9.8297 - student_romantic_accuracy: 0.5821 - val_loss: 95.3521 - val_student_age_loss: 94.6925 - val_student_romantic_loss: 0.6596 - val_student_age_root_mean_squared_error: 9.7310 - val_student_romantic_accuracy: 0.6538\n",
            "Epoch 27/180\n",
            "8/8 [==============================] - 0s 8ms/step - loss: 92.9591 - student_age_loss: 92.2859 - student_romantic_loss: 0.6732 - student_age_root_mean_squared_error: 9.6059 - student_romantic_accuracy: 0.6258 - val_loss: 89.2124 - val_student_age_loss: 88.5551 - val_student_romantic_loss: 0.6573 - val_student_age_root_mean_squared_error: 9.4104 - val_student_romantic_accuracy: 0.6538\n",
            "Epoch 28/180\n",
            "8/8 [==============================] - 0s 8ms/step - loss: 84.4839 - student_age_loss: 83.7882 - student_romantic_loss: 0.6957 - student_age_root_mean_squared_error: 9.1529 - student_romantic_accuracy: 0.5706 - val_loss: 83.2503 - val_student_age_loss: 82.5951 - val_student_romantic_loss: 0.6553 - val_student_age_root_mean_squared_error: 9.0882 - val_student_romantic_accuracy: 0.6538\n",
            "Epoch 29/180\n",
            "8/8 [==============================] - 0s 8ms/step - loss: 81.8110 - student_age_loss: 81.1385 - student_romantic_loss: 0.6724 - student_age_root_mean_squared_error: 9.0068 - student_romantic_accuracy: 0.6204 - val_loss: 77.4163 - val_student_age_loss: 76.7626 - val_student_romantic_loss: 0.6537 - val_student_age_root_mean_squared_error: 8.7614 - val_student_romantic_accuracy: 0.6538\n",
            "Epoch 30/180\n",
            "8/8 [==============================] - 0s 8ms/step - loss: 74.3959 - student_age_loss: 73.7367 - student_romantic_loss: 0.6592 - student_age_root_mean_squared_error: 8.5862 - student_romantic_accuracy: 0.6440 - val_loss: 71.7181 - val_student_age_loss: 71.0658 - val_student_romantic_loss: 0.6523 - val_student_age_root_mean_squared_error: 8.4301 - val_student_romantic_accuracy: 0.6538\n",
            "Epoch 31/180\n",
            "8/8 [==============================] - 0s 8ms/step - loss: 68.2140 - student_age_loss: 67.5303 - student_romantic_loss: 0.6837 - student_age_root_mean_squared_error: 8.2176 - student_romantic_accuracy: 0.6357 - val_loss: 66.1579 - val_student_age_loss: 65.5064 - val_student_romantic_loss: 0.6515 - val_student_age_root_mean_squared_error: 8.0936 - val_student_romantic_accuracy: 0.6538\n",
            "Epoch 32/180\n",
            "8/8 [==============================] - 0s 8ms/step - loss: 64.2066 - student_age_loss: 63.5213 - student_romantic_loss: 0.6853 - student_age_root_mean_squared_error: 7.9693 - student_romantic_accuracy: 0.6326 - val_loss: 60.7892 - val_student_age_loss: 60.1384 - val_student_romantic_loss: 0.6508 - val_student_age_root_mean_squared_error: 7.7549 - val_student_romantic_accuracy: 0.6538\n",
            "Epoch 33/180\n",
            "8/8 [==============================] - 0s 8ms/step - loss: 59.4008 - student_age_loss: 58.6939 - student_romantic_loss: 0.7069 - student_age_root_mean_squared_error: 7.6588 - student_romantic_accuracy: 0.6176 - val_loss: 55.6125 - val_student_age_loss: 54.9625 - val_student_romantic_loss: 0.6500 - val_student_age_root_mean_squared_error: 7.4137 - val_student_romantic_accuracy: 0.6410\n",
            "Epoch 34/180\n",
            "8/8 [==============================] - 0s 9ms/step - loss: 52.4465 - student_age_loss: 51.7528 - student_romantic_loss: 0.6937 - student_age_root_mean_squared_error: 7.1933 - student_romantic_accuracy: 0.6424 - val_loss: 50.6271 - val_student_age_loss: 49.9777 - val_student_romantic_loss: 0.6494 - val_student_age_root_mean_squared_error: 7.0695 - val_student_romantic_accuracy: 0.6282\n",
            "Epoch 35/180\n",
            "8/8 [==============================] - 0s 9ms/step - loss: 48.6457 - student_age_loss: 47.9776 - student_romantic_loss: 0.6682 - student_age_root_mean_squared_error: 6.9261 - student_romantic_accuracy: 0.6582 - val_loss: 45.8540 - val_student_age_loss: 45.2047 - val_student_romantic_loss: 0.6493 - val_student_age_root_mean_squared_error: 6.7234 - val_student_romantic_accuracy: 0.6282\n",
            "Epoch 36/180\n",
            "8/8 [==============================] - 0s 8ms/step - loss: 43.8722 - student_age_loss: 43.1944 - student_romantic_loss: 0.6778 - student_age_root_mean_squared_error: 6.5711 - student_romantic_accuracy: 0.6404 - val_loss: 41.2899 - val_student_age_loss: 40.6410 - val_student_romantic_loss: 0.6489 - val_student_age_root_mean_squared_error: 6.3750 - val_student_romantic_accuracy: 0.6410\n",
            "Epoch 37/180\n",
            "8/8 [==============================] - 0s 8ms/step - loss: 39.8585 - student_age_loss: 39.2011 - student_romantic_loss: 0.6574 - student_age_root_mean_squared_error: 6.2596 - student_romantic_accuracy: 0.6676 - val_loss: 36.9878 - val_student_age_loss: 36.3385 - val_student_romantic_loss: 0.6493 - val_student_age_root_mean_squared_error: 6.0281 - val_student_romantic_accuracy: 0.6410\n",
            "Epoch 38/180\n",
            "8/8 [==============================] - 0s 8ms/step - loss: 34.3364 - student_age_loss: 33.6311 - student_romantic_loss: 0.7053 - student_age_root_mean_squared_error: 5.7970 - student_romantic_accuracy: 0.6326 - val_loss: 32.9391 - val_student_age_loss: 32.2899 - val_student_romantic_loss: 0.6492 - val_student_age_root_mean_squared_error: 5.6824 - val_student_romantic_accuracy: 0.6410\n",
            "Epoch 39/180\n",
            "8/8 [==============================] - 0s 8ms/step - loss: 32.1939 - student_age_loss: 31.5290 - student_romantic_loss: 0.6649 - student_age_root_mean_squared_error: 5.6136 - student_romantic_accuracy: 0.6512 - val_loss: 29.1723 - val_student_age_loss: 28.5227 - val_student_romantic_loss: 0.6496 - val_student_age_root_mean_squared_error: 5.3407 - val_student_romantic_accuracy: 0.6410\n",
            "Epoch 40/180\n",
            "8/8 [==============================] - 0s 8ms/step - loss: 27.6559 - student_age_loss: 26.9677 - student_romantic_loss: 0.6882 - student_age_root_mean_squared_error: 5.1928 - student_romantic_accuracy: 0.6268 - val_loss: 25.6866 - val_student_age_loss: 25.0370 - val_student_romantic_loss: 0.6496 - val_student_age_root_mean_squared_error: 5.0037 - val_student_romantic_accuracy: 0.6410\n",
            "Epoch 41/180\n",
            "8/8 [==============================] - 0s 8ms/step - loss: 25.0052 - student_age_loss: 24.3065 - student_romantic_loss: 0.6987 - student_age_root_mean_squared_error: 4.9289 - student_romantic_accuracy: 0.6363 - val_loss: 22.4773 - val_student_age_loss: 21.8274 - val_student_romantic_loss: 0.6499 - val_student_age_root_mean_squared_error: 4.6720 - val_student_romantic_accuracy: 0.6410\n",
            "Epoch 42/180\n",
            "8/8 [==============================] - 0s 8ms/step - loss: 21.6063 - student_age_loss: 20.9418 - student_romantic_loss: 0.6645 - student_age_root_mean_squared_error: 4.5756 - student_romantic_accuracy: 0.6555 - val_loss: 19.5338 - val_student_age_loss: 18.8837 - val_student_romantic_loss: 0.6501 - val_student_age_root_mean_squared_error: 4.3455 - val_student_romantic_accuracy: 0.6410\n",
            "Epoch 43/180\n",
            "8/8 [==============================] - 0s 9ms/step - loss: 17.7138 - student_age_loss: 17.0153 - student_romantic_loss: 0.6986 - student_age_root_mean_squared_error: 4.1240 - student_romantic_accuracy: 0.6210 - val_loss: 16.9621 - val_student_age_loss: 16.3118 - val_student_romantic_loss: 0.6503 - val_student_age_root_mean_squared_error: 4.0388 - val_student_romantic_accuracy: 0.6410\n",
            "Epoch 44/180\n",
            "8/8 [==============================] - 0s 9ms/step - loss: 16.9458 - student_age_loss: 16.2372 - student_romantic_loss: 0.7086 - student_age_root_mean_squared_error: 4.0284 - student_romantic_accuracy: 0.5950 - val_loss: 14.7299 - val_student_age_loss: 14.0787 - val_student_romantic_loss: 0.6511 - val_student_age_root_mean_squared_error: 3.7522 - val_student_romantic_accuracy: 0.6410\n",
            "Epoch 45/180\n",
            "8/8 [==============================] - 0s 8ms/step - loss: 15.0356 - student_age_loss: 14.3430 - student_romantic_loss: 0.6927 - student_age_root_mean_squared_error: 3.7832 - student_romantic_accuracy: 0.6174 - val_loss: 12.8240 - val_student_age_loss: 12.1722 - val_student_romantic_loss: 0.6518 - val_student_age_root_mean_squared_error: 3.4889 - val_student_romantic_accuracy: 0.6410\n",
            "Epoch 46/180\n",
            "8/8 [==============================] - 0s 9ms/step - loss: 14.2393 - student_age_loss: 13.5186 - student_romantic_loss: 0.7207 - student_age_root_mean_squared_error: 3.6673 - student_romantic_accuracy: 0.5993 - val_loss: 11.2172 - val_student_age_loss: 10.5653 - val_student_romantic_loss: 0.6518 - val_student_age_root_mean_squared_error: 3.2504 - val_student_romantic_accuracy: 0.6410\n",
            "Epoch 47/180\n",
            "8/8 [==============================] - 0s 9ms/step - loss: 10.5563 - student_age_loss: 9.8689 - student_romantic_loss: 0.6873 - student_age_root_mean_squared_error: 3.1385 - student_romantic_accuracy: 0.6187 - val_loss: 9.8829 - val_student_age_loss: 9.2301 - val_student_romantic_loss: 0.6529 - val_student_age_root_mean_squared_error: 3.0381 - val_student_romantic_accuracy: 0.6410\n",
            "Epoch 48/180\n",
            "8/8 [==============================] - 0s 10ms/step - loss: 10.2164 - student_age_loss: 9.5115 - student_romantic_loss: 0.7049 - student_age_root_mean_squared_error: 3.0825 - student_romantic_accuracy: 0.6279 - val_loss: 8.8805 - val_student_age_loss: 8.2274 - val_student_romantic_loss: 0.6532 - val_student_age_root_mean_squared_error: 2.8683 - val_student_romantic_accuracy: 0.6410\n",
            "Epoch 49/180\n",
            "8/8 [==============================] - 0s 11ms/step - loss: 9.9188 - student_age_loss: 9.2395 - student_romantic_loss: 0.6793 - student_age_root_mean_squared_error: 3.0371 - student_romantic_accuracy: 0.6544 - val_loss: 8.1537 - val_student_age_loss: 7.4997 - val_student_romantic_loss: 0.6540 - val_student_age_root_mean_squared_error: 2.7386 - val_student_romantic_accuracy: 0.6538\n",
            "Epoch 50/180\n",
            "8/8 [==============================] - 0s 9ms/step - loss: 8.7713 - student_age_loss: 8.0633 - student_romantic_loss: 0.7080 - student_age_root_mean_squared_error: 2.8386 - student_romantic_accuracy: 0.5712 - val_loss: 7.6181 - val_student_age_loss: 6.9631 - val_student_romantic_loss: 0.6550 - val_student_age_root_mean_squared_error: 2.6388 - val_student_romantic_accuracy: 0.6538\n",
            "Epoch 51/180\n",
            "8/8 [==============================] - 0s 8ms/step - loss: 9.0458 - student_age_loss: 8.3183 - student_romantic_loss: 0.7275 - student_age_root_mean_squared_error: 2.8824 - student_romantic_accuracy: 0.5631 - val_loss: 7.2651 - val_student_age_loss: 6.6094 - val_student_romantic_loss: 0.6557 - val_student_age_root_mean_squared_error: 2.5709 - val_student_romantic_accuracy: 0.6410\n",
            "Epoch 52/180\n",
            "8/8 [==============================] - 0s 8ms/step - loss: 7.4634 - student_age_loss: 6.7667 - student_romantic_loss: 0.6967 - student_age_root_mean_squared_error: 2.5986 - student_romantic_accuracy: 0.6059 - val_loss: 7.0345 - val_student_age_loss: 6.3777 - val_student_romantic_loss: 0.6568 - val_student_age_root_mean_squared_error: 2.5254 - val_student_romantic_accuracy: 0.6410\n",
            "Epoch 53/180\n",
            "8/8 [==============================] - 0s 9ms/step - loss: 7.5659 - student_age_loss: 6.8523 - student_romantic_loss: 0.7135 - student_age_root_mean_squared_error: 2.6146 - student_romantic_accuracy: 0.6032 - val_loss: 6.8793 - val_student_age_loss: 6.2218 - val_student_romantic_loss: 0.6575 - val_student_age_root_mean_squared_error: 2.4944 - val_student_romantic_accuracy: 0.6410\n",
            "Epoch 54/180\n",
            "8/8 [==============================] - 0s 8ms/step - loss: 6.7515 - student_age_loss: 6.0816 - student_romantic_loss: 0.6699 - student_age_root_mean_squared_error: 2.4636 - student_romantic_accuracy: 0.6347 - val_loss: 6.7901 - val_student_age_loss: 6.1309 - val_student_romantic_loss: 0.6592 - val_student_age_root_mean_squared_error: 2.4761 - val_student_romantic_accuracy: 0.6538\n",
            "Epoch 55/180\n",
            "8/8 [==============================] - 0s 22ms/step - loss: 7.9717 - student_age_loss: 7.2966 - student_romantic_loss: 0.6751 - student_age_root_mean_squared_error: 2.6974 - student_romantic_accuracy: 0.6275 - val_loss: 6.7068 - val_student_age_loss: 6.0468 - val_student_romantic_loss: 0.6600 - val_student_age_root_mean_squared_error: 2.4590 - val_student_romantic_accuracy: 0.6538\n",
            "Epoch 56/180\n",
            "8/8 [==============================] - 0s 9ms/step - loss: 7.0813 - student_age_loss: 6.4305 - student_romantic_loss: 0.6508 - student_age_root_mean_squared_error: 2.5344 - student_romantic_accuracy: 0.6546 - val_loss: 6.6360 - val_student_age_loss: 5.9749 - val_student_romantic_loss: 0.6611 - val_student_age_root_mean_squared_error: 2.4444 - val_student_romantic_accuracy: 0.6410\n",
            "Epoch 57/180\n",
            "8/8 [==============================] - 0s 8ms/step - loss: 7.7492 - student_age_loss: 7.0345 - student_romantic_loss: 0.7147 - student_age_root_mean_squared_error: 2.6468 - student_romantic_accuracy: 0.5672 - val_loss: 6.5920 - val_student_age_loss: 5.9307 - val_student_romantic_loss: 0.6613 - val_student_age_root_mean_squared_error: 2.4353 - val_student_romantic_accuracy: 0.6410\n",
            "Epoch 58/180\n",
            "8/8 [==============================] - 0s 9ms/step - loss: 7.2287 - student_age_loss: 6.5618 - student_romantic_loss: 0.6669 - student_age_root_mean_squared_error: 2.5580 - student_romantic_accuracy: 0.6310 - val_loss: 6.5447 - val_student_age_loss: 5.8829 - val_student_romantic_loss: 0.6617 - val_student_age_root_mean_squared_error: 2.4255 - val_student_romantic_accuracy: 0.6410\n",
            "Epoch 59/180\n",
            "8/8 [==============================] - 0s 8ms/step - loss: 6.3708 - student_age_loss: 5.7264 - student_romantic_loss: 0.6444 - student_age_root_mean_squared_error: 2.3918 - student_romantic_accuracy: 0.6723 - val_loss: 6.5232 - val_student_age_loss: 5.8610 - val_student_romantic_loss: 0.6622 - val_student_age_root_mean_squared_error: 2.4210 - val_student_romantic_accuracy: 0.6410\n",
            "Epoch 60/180\n",
            "8/8 [==============================] - 0s 8ms/step - loss: 5.9325 - student_age_loss: 5.2565 - student_romantic_loss: 0.6760 - student_age_root_mean_squared_error: 2.2898 - student_romantic_accuracy: 0.6210 - val_loss: 6.4889 - val_student_age_loss: 5.8276 - val_student_romantic_loss: 0.6614 - val_student_age_root_mean_squared_error: 2.4140 - val_student_romantic_accuracy: 0.6410\n",
            "Epoch 61/180\n",
            "8/8 [==============================] - 0s 8ms/step - loss: 5.9506 - student_age_loss: 5.2634 - student_romantic_loss: 0.6872 - student_age_root_mean_squared_error: 2.2934 - student_romantic_accuracy: 0.6275 - val_loss: 6.4759 - val_student_age_loss: 5.8149 - val_student_romantic_loss: 0.6610 - val_student_age_root_mean_squared_error: 2.4114 - val_student_romantic_accuracy: 0.6410\n",
            "Epoch 62/180\n",
            "8/8 [==============================] - 0s 8ms/step - loss: 5.7787 - student_age_loss: 5.0971 - student_romantic_loss: 0.6816 - student_age_root_mean_squared_error: 2.2568 - student_romantic_accuracy: 0.5970 - val_loss: 6.4600 - val_student_age_loss: 5.7994 - val_student_romantic_loss: 0.6606 - val_student_age_root_mean_squared_error: 2.4082 - val_student_romantic_accuracy: 0.6410\n",
            "Epoch 63/180\n",
            "8/8 [==============================] - 0s 9ms/step - loss: 5.9761 - student_age_loss: 5.3038 - student_romantic_loss: 0.6723 - student_age_root_mean_squared_error: 2.3003 - student_romantic_accuracy: 0.6359 - val_loss: 6.4440 - val_student_age_loss: 5.7829 - val_student_romantic_loss: 0.6611 - val_student_age_root_mean_squared_error: 2.4048 - val_student_romantic_accuracy: 0.6410\n",
            "Epoch 64/180\n",
            "8/8 [==============================] - 0s 8ms/step - loss: 6.0972 - student_age_loss: 5.4434 - student_romantic_loss: 0.6538 - student_age_root_mean_squared_error: 2.3315 - student_romantic_accuracy: 0.6597 - val_loss: 6.4288 - val_student_age_loss: 5.7676 - val_student_romantic_loss: 0.6612 - val_student_age_root_mean_squared_error: 2.4016 - val_student_romantic_accuracy: 0.6410\n",
            "Epoch 65/180\n",
            "8/8 [==============================] - 0s 8ms/step - loss: 5.1637 - student_age_loss: 4.5194 - student_romantic_loss: 0.6443 - student_age_root_mean_squared_error: 2.1242 - student_romantic_accuracy: 0.6782 - val_loss: 6.4149 - val_student_age_loss: 5.7549 - val_student_romantic_loss: 0.6600 - val_student_age_root_mean_squared_error: 2.3989 - val_student_romantic_accuracy: 0.6410\n",
            "Epoch 66/180\n",
            "8/8 [==============================] - 0s 8ms/step - loss: 5.8595 - student_age_loss: 5.1789 - student_romantic_loss: 0.6806 - student_age_root_mean_squared_error: 2.2746 - student_romantic_accuracy: 0.6310 - val_loss: 6.4041 - val_student_age_loss: 5.7443 - val_student_romantic_loss: 0.6598 - val_student_age_root_mean_squared_error: 2.3967 - val_student_romantic_accuracy: 0.6410\n",
            "Epoch 67/180\n",
            "8/8 [==============================] - 0s 8ms/step - loss: 4.9417 - student_age_loss: 4.2502 - student_romantic_loss: 0.6915 - student_age_root_mean_squared_error: 2.0574 - student_romantic_accuracy: 0.6424 - val_loss: 6.3983 - val_student_age_loss: 5.7383 - val_student_romantic_loss: 0.6599 - val_student_age_root_mean_squared_error: 2.3955 - val_student_romantic_accuracy: 0.6410\n",
            "Epoch 68/180\n",
            "8/8 [==============================] - 0s 8ms/step - loss: 4.8627 - student_age_loss: 4.1595 - student_romantic_loss: 0.7031 - student_age_root_mean_squared_error: 2.0373 - student_romantic_accuracy: 0.6110 - val_loss: 6.3896 - val_student_age_loss: 5.7293 - val_student_romantic_loss: 0.6603 - val_student_age_root_mean_squared_error: 2.3936 - val_student_romantic_accuracy: 0.6538\n",
            "Epoch 69/180\n",
            "8/8 [==============================] - 0s 8ms/step - loss: 4.7528 - student_age_loss: 4.1028 - student_romantic_loss: 0.6500 - student_age_root_mean_squared_error: 2.0243 - student_romantic_accuracy: 0.6506 - val_loss: 6.3770 - val_student_age_loss: 5.7164 - val_student_romantic_loss: 0.6606 - val_student_age_root_mean_squared_error: 2.3909 - val_student_romantic_accuracy: 0.6538\n",
            "Epoch 70/180\n",
            "8/8 [==============================] - 0s 8ms/step - loss: 5.3919 - student_age_loss: 4.7448 - student_romantic_loss: 0.6471 - student_age_root_mean_squared_error: 2.1771 - student_romantic_accuracy: 0.6433 - val_loss: 6.3713 - val_student_age_loss: 5.7113 - val_student_romantic_loss: 0.6600 - val_student_age_root_mean_squared_error: 2.3898 - val_student_romantic_accuracy: 0.6538\n",
            "Epoch 71/180\n",
            "8/8 [==============================] - 0s 9ms/step - loss: 5.5067 - student_age_loss: 4.8208 - student_romantic_loss: 0.6859 - student_age_root_mean_squared_error: 2.1935 - student_romantic_accuracy: 0.6144 - val_loss: 6.3712 - val_student_age_loss: 5.7117 - val_student_romantic_loss: 0.6595 - val_student_age_root_mean_squared_error: 2.3899 - val_student_romantic_accuracy: 0.6667\n",
            "Epoch 72/180\n",
            "8/8 [==============================] - 0s 9ms/step - loss: 4.9363 - student_age_loss: 4.2551 - student_romantic_loss: 0.6812 - student_age_root_mean_squared_error: 2.0607 - student_romantic_accuracy: 0.6307 - val_loss: 6.3593 - val_student_age_loss: 5.7004 - val_student_romantic_loss: 0.6589 - val_student_age_root_mean_squared_error: 2.3875 - val_student_romantic_accuracy: 0.6667\n",
            "Epoch 73/180\n",
            "8/8 [==============================] - 0s 10ms/step - loss: 5.0036 - student_age_loss: 4.3341 - student_romantic_loss: 0.6695 - student_age_root_mean_squared_error: 2.0809 - student_romantic_accuracy: 0.6243 - val_loss: 6.3459 - val_student_age_loss: 5.6866 - val_student_romantic_loss: 0.6593 - val_student_age_root_mean_squared_error: 2.3847 - val_student_romantic_accuracy: 0.6667\n",
            "Epoch 74/180\n",
            "8/8 [==============================] - 0s 9ms/step - loss: 4.4160 - student_age_loss: 3.7385 - student_romantic_loss: 0.6774 - student_age_root_mean_squared_error: 1.9236 - student_romantic_accuracy: 0.6192 - val_loss: 6.3369 - val_student_age_loss: 5.6778 - val_student_romantic_loss: 0.6592 - val_student_age_root_mean_squared_error: 2.3828 - val_student_romantic_accuracy: 0.6538\n",
            "Epoch 75/180\n",
            "8/8 [==============================] - 0s 10ms/step - loss: 4.7517 - student_age_loss: 4.0706 - student_romantic_loss: 0.6811 - student_age_root_mean_squared_error: 2.0163 - student_romantic_accuracy: 0.6086 - val_loss: 6.3194 - val_student_age_loss: 5.6604 - val_student_romantic_loss: 0.6590 - val_student_age_root_mean_squared_error: 2.3792 - val_student_romantic_accuracy: 0.6282\n",
            "Epoch 76/180\n",
            "8/8 [==============================] - 0s 10ms/step - loss: 4.7034 - student_age_loss: 4.0345 - student_romantic_loss: 0.6689 - student_age_root_mean_squared_error: 2.0083 - student_romantic_accuracy: 0.6333 - val_loss: 6.3144 - val_student_age_loss: 5.6563 - val_student_romantic_loss: 0.6581 - val_student_age_root_mean_squared_error: 2.3783 - val_student_romantic_accuracy: 0.6538\n",
            "Epoch 77/180\n",
            "8/8 [==============================] - 0s 9ms/step - loss: 4.2417 - student_age_loss: 3.5625 - student_romantic_loss: 0.6792 - student_age_root_mean_squared_error: 1.8858 - student_romantic_accuracy: 0.6168 - val_loss: 6.3016 - val_student_age_loss: 5.6445 - val_student_romantic_loss: 0.6571 - val_student_age_root_mean_squared_error: 2.3758 - val_student_romantic_accuracy: 0.6538\n",
            "Epoch 78/180\n",
            "8/8 [==============================] - 0s 9ms/step - loss: 3.9931 - student_age_loss: 3.3216 - student_romantic_loss: 0.6715 - student_age_root_mean_squared_error: 1.8195 - student_romantic_accuracy: 0.6081 - val_loss: 6.2945 - val_student_age_loss: 5.6386 - val_student_romantic_loss: 0.6559 - val_student_age_root_mean_squared_error: 2.3746 - val_student_romantic_accuracy: 0.6538\n",
            "Epoch 79/180\n",
            "8/8 [==============================] - 0s 8ms/step - loss: 4.8938 - student_age_loss: 4.2578 - student_romantic_loss: 0.6359 - student_age_root_mean_squared_error: 2.0534 - student_romantic_accuracy: 0.6292 - val_loss: 6.2906 - val_student_age_loss: 5.6345 - val_student_romantic_loss: 0.6561 - val_student_age_root_mean_squared_error: 2.3737 - val_student_romantic_accuracy: 0.6538\n",
            "Epoch 80/180\n",
            "8/8 [==============================] - 0s 9ms/step - loss: 4.0389 - student_age_loss: 3.3651 - student_romantic_loss: 0.6738 - student_age_root_mean_squared_error: 1.8329 - student_romantic_accuracy: 0.6249 - val_loss: 6.2742 - val_student_age_loss: 5.6179 - val_student_romantic_loss: 0.6563 - val_student_age_root_mean_squared_error: 2.3702 - val_student_romantic_accuracy: 0.6282\n",
            "Epoch 81/180\n",
            "8/8 [==============================] - 0s 8ms/step - loss: 4.2853 - student_age_loss: 3.6311 - student_romantic_loss: 0.6543 - student_age_root_mean_squared_error: 1.9041 - student_romantic_accuracy: 0.6291 - val_loss: 6.2592 - val_student_age_loss: 5.6033 - val_student_romantic_loss: 0.6558 - val_student_age_root_mean_squared_error: 2.3671 - val_student_romantic_accuracy: 0.6282\n",
            "Epoch 82/180\n",
            "8/8 [==============================] - 0s 8ms/step - loss: 3.7314 - student_age_loss: 3.1032 - student_romantic_loss: 0.6282 - student_age_root_mean_squared_error: 1.7579 - student_romantic_accuracy: 0.6697 - val_loss: 6.2462 - val_student_age_loss: 5.5907 - val_student_romantic_loss: 0.6556 - val_student_age_root_mean_squared_error: 2.3645 - val_student_romantic_accuracy: 0.6282\n",
            "Epoch 83/180\n",
            "8/8 [==============================] - 0s 10ms/step - loss: 3.8457 - student_age_loss: 3.1530 - student_romantic_loss: 0.6927 - student_age_root_mean_squared_error: 1.7732 - student_romantic_accuracy: 0.5900 - val_loss: 6.2351 - val_student_age_loss: 5.5799 - val_student_romantic_loss: 0.6552 - val_student_age_root_mean_squared_error: 2.3622 - val_student_romantic_accuracy: 0.6282\n",
            "Epoch 84/180\n",
            "8/8 [==============================] - 0s 9ms/step - loss: 3.8394 - student_age_loss: 3.2144 - student_romantic_loss: 0.6249 - student_age_root_mean_squared_error: 1.7927 - student_romantic_accuracy: 0.6543 - val_loss: 6.2235 - val_student_age_loss: 5.5679 - val_student_romantic_loss: 0.6556 - val_student_age_root_mean_squared_error: 2.3596 - val_student_romantic_accuracy: 0.6282\n",
            "Epoch 85/180\n",
            "8/8 [==============================] - 0s 9ms/step - loss: 4.0087 - student_age_loss: 3.3711 - student_romantic_loss: 0.6376 - student_age_root_mean_squared_error: 1.8358 - student_romantic_accuracy: 0.6370 - val_loss: 6.2085 - val_student_age_loss: 5.5537 - val_student_romantic_loss: 0.6548 - val_student_age_root_mean_squared_error: 2.3566 - val_student_romantic_accuracy: 0.6282\n",
            "Epoch 86/180\n",
            "8/8 [==============================] - 0s 10ms/step - loss: 4.1103 - student_age_loss: 3.4473 - student_romantic_loss: 0.6631 - student_age_root_mean_squared_error: 1.8531 - student_romantic_accuracy: 0.6119 - val_loss: 6.1944 - val_student_age_loss: 5.5409 - val_student_romantic_loss: 0.6535 - val_student_age_root_mean_squared_error: 2.3539 - val_student_romantic_accuracy: 0.6282\n",
            "Epoch 87/180\n",
            "8/8 [==============================] - 0s 11ms/step - loss: 3.6582 - student_age_loss: 2.9891 - student_romantic_loss: 0.6691 - student_age_root_mean_squared_error: 1.7264 - student_romantic_accuracy: 0.6209 - val_loss: 6.1817 - val_student_age_loss: 5.5287 - val_student_romantic_loss: 0.6530 - val_student_age_root_mean_squared_error: 2.3513 - val_student_romantic_accuracy: 0.6282\n",
            "Epoch 88/180\n",
            "8/8 [==============================] - 0s 9ms/step - loss: 3.8164 - student_age_loss: 3.1647 - student_romantic_loss: 0.6517 - student_age_root_mean_squared_error: 1.7776 - student_romantic_accuracy: 0.6236 - val_loss: 6.1702 - val_student_age_loss: 5.5171 - val_student_romantic_loss: 0.6530 - val_student_age_root_mean_squared_error: 2.3489 - val_student_romantic_accuracy: 0.6410\n",
            "Epoch 89/180\n",
            "8/8 [==============================] - 0s 10ms/step - loss: 3.7748 - student_age_loss: 3.1259 - student_romantic_loss: 0.6488 - student_age_root_mean_squared_error: 1.7678 - student_romantic_accuracy: 0.6270 - val_loss: 6.1636 - val_student_age_loss: 5.5105 - val_student_romantic_loss: 0.6531 - val_student_age_root_mean_squared_error: 2.3474 - val_student_romantic_accuracy: 0.6410\n",
            "Epoch 90/180\n",
            "8/8 [==============================] - 0s 10ms/step - loss: 3.3637 - student_age_loss: 2.7319 - student_romantic_loss: 0.6318 - student_age_root_mean_squared_error: 1.6507 - student_romantic_accuracy: 0.6622 - val_loss: 6.1451 - val_student_age_loss: 5.4922 - val_student_romantic_loss: 0.6529 - val_student_age_root_mean_squared_error: 2.3435 - val_student_romantic_accuracy: 0.6410\n",
            "Epoch 91/180\n",
            "8/8 [==============================] - 0s 9ms/step - loss: 3.8082 - student_age_loss: 3.1801 - student_romantic_loss: 0.6281 - student_age_root_mean_squared_error: 1.7809 - student_romantic_accuracy: 0.6651 - val_loss: 6.1294 - val_student_age_loss: 5.4768 - val_student_romantic_loss: 0.6526 - val_student_age_root_mean_squared_error: 2.3403 - val_student_romantic_accuracy: 0.6410\n",
            "Epoch 92/180\n",
            "8/8 [==============================] - 0s 9ms/step - loss: 3.5582 - student_age_loss: 2.9015 - student_romantic_loss: 0.6567 - student_age_root_mean_squared_error: 1.7033 - student_romantic_accuracy: 0.6354 - val_loss: 6.1237 - val_student_age_loss: 5.4722 - val_student_romantic_loss: 0.6516 - val_student_age_root_mean_squared_error: 2.3393 - val_student_romantic_accuracy: 0.6538\n",
            "Epoch 93/180\n",
            "8/8 [==============================] - 0s 9ms/step - loss: 3.2977 - student_age_loss: 2.6762 - student_romantic_loss: 0.6215 - student_age_root_mean_squared_error: 1.6349 - student_romantic_accuracy: 0.6790 - val_loss: 6.1131 - val_student_age_loss: 5.4609 - val_student_romantic_loss: 0.6523 - val_student_age_root_mean_squared_error: 2.3369 - val_student_romantic_accuracy: 0.6538\n",
            "Epoch 94/180\n",
            "8/8 [==============================] - 0s 8ms/step - loss: 3.5077 - student_age_loss: 2.8750 - student_romantic_loss: 0.6327 - student_age_root_mean_squared_error: 1.6931 - student_romantic_accuracy: 0.6380 - val_loss: 6.0907 - val_student_age_loss: 5.4377 - val_student_romantic_loss: 0.6530 - val_student_age_root_mean_squared_error: 2.3319 - val_student_romantic_accuracy: 0.6538\n",
            "Epoch 95/180\n",
            "8/8 [==============================] - 0s 9ms/step - loss: 3.0375 - student_age_loss: 2.4170 - student_romantic_loss: 0.6205 - student_age_root_mean_squared_error: 1.5510 - student_romantic_accuracy: 0.6755 - val_loss: 6.0760 - val_student_age_loss: 5.4237 - val_student_romantic_loss: 0.6522 - val_student_age_root_mean_squared_error: 2.3289 - val_student_romantic_accuracy: 0.6538\n",
            "Epoch 96/180\n",
            "8/8 [==============================] - 0s 8ms/step - loss: 3.1929 - student_age_loss: 2.5284 - student_romantic_loss: 0.6645 - student_age_root_mean_squared_error: 1.5888 - student_romantic_accuracy: 0.5758 - val_loss: 6.0483 - val_student_age_loss: 5.3976 - val_student_romantic_loss: 0.6507 - val_student_age_root_mean_squared_error: 2.3233 - val_student_romantic_accuracy: 0.6538\n",
            "Epoch 97/180\n",
            "8/8 [==============================] - 0s 10ms/step - loss: 3.1980 - student_age_loss: 2.5815 - student_romantic_loss: 0.6166 - student_age_root_mean_squared_error: 1.6060 - student_romantic_accuracy: 0.6515 - val_loss: 6.0472 - val_student_age_loss: 5.3970 - val_student_romantic_loss: 0.6501 - val_student_age_root_mean_squared_error: 2.3231 - val_student_romantic_accuracy: 0.6538\n",
            "Epoch 98/180\n",
            "8/8 [==============================] - 0s 9ms/step - loss: 3.4823 - student_age_loss: 2.8298 - student_romantic_loss: 0.6525 - student_age_root_mean_squared_error: 1.6754 - student_romantic_accuracy: 0.6157 - val_loss: 6.0200 - val_student_age_loss: 5.3714 - val_student_romantic_loss: 0.6486 - val_student_age_root_mean_squared_error: 2.3176 - val_student_romantic_accuracy: 0.6667\n",
            "Epoch 99/180\n",
            "8/8 [==============================] - 0s 10ms/step - loss: 3.0416 - student_age_loss: 2.4054 - student_romantic_loss: 0.6362 - student_age_root_mean_squared_error: 1.5466 - student_romantic_accuracy: 0.6587 - val_loss: 5.9959 - val_student_age_loss: 5.3461 - val_student_romantic_loss: 0.6499 - val_student_age_root_mean_squared_error: 2.3122 - val_student_romantic_accuracy: 0.6538\n",
            "Epoch 100/180\n",
            "8/8 [==============================] - 0s 9ms/step - loss: 3.2702 - student_age_loss: 2.6621 - student_romantic_loss: 0.6082 - student_age_root_mean_squared_error: 1.6301 - student_romantic_accuracy: 0.6837 - val_loss: 5.9784 - val_student_age_loss: 5.3277 - val_student_romantic_loss: 0.6507 - val_student_age_root_mean_squared_error: 2.3082 - val_student_romantic_accuracy: 0.6538\n",
            "Epoch 101/180\n",
            "8/8 [==============================] - 0s 10ms/step - loss: 2.8881 - student_age_loss: 2.2717 - student_romantic_loss: 0.6164 - student_age_root_mean_squared_error: 1.5059 - student_romantic_accuracy: 0.6711 - val_loss: 5.9874 - val_student_age_loss: 5.3377 - val_student_romantic_loss: 0.6497 - val_student_age_root_mean_squared_error: 2.3103 - val_student_romantic_accuracy: 0.6538\n",
            "Epoch 102/180\n",
            "8/8 [==============================] - 0s 12ms/step - loss: 2.9687 - student_age_loss: 2.3157 - student_romantic_loss: 0.6530 - student_age_root_mean_squared_error: 1.5203 - student_romantic_accuracy: 0.6172 - val_loss: 5.9720 - val_student_age_loss: 5.3237 - val_student_romantic_loss: 0.6482 - val_student_age_root_mean_squared_error: 2.3073 - val_student_romantic_accuracy: 0.6538\n",
            "Epoch 103/180\n",
            "8/8 [==============================] - 0s 10ms/step - loss: 2.9951 - student_age_loss: 2.3600 - student_romantic_loss: 0.6351 - student_age_root_mean_squared_error: 1.5360 - student_romantic_accuracy: 0.6401 - val_loss: 5.9373 - val_student_age_loss: 5.2894 - val_student_romantic_loss: 0.6479 - val_student_age_root_mean_squared_error: 2.2999 - val_student_romantic_accuracy: 0.6538\n",
            "Epoch 104/180\n",
            "8/8 [==============================] - 0s 10ms/step - loss: 2.8729 - student_age_loss: 2.2501 - student_romantic_loss: 0.6227 - student_age_root_mean_squared_error: 1.4957 - student_romantic_accuracy: 0.6466 - val_loss: 5.9443 - val_student_age_loss: 5.2960 - val_student_romantic_loss: 0.6483 - val_student_age_root_mean_squared_error: 2.3013 - val_student_romantic_accuracy: 0.6538\n",
            "Epoch 105/180\n",
            "8/8 [==============================] - 0s 10ms/step - loss: 3.0846 - student_age_loss: 2.4643 - student_romantic_loss: 0.6203 - student_age_root_mean_squared_error: 1.5666 - student_romantic_accuracy: 0.6473 - val_loss: 5.9197 - val_student_age_loss: 5.2708 - val_student_romantic_loss: 0.6489 - val_student_age_root_mean_squared_error: 2.2958 - val_student_romantic_accuracy: 0.6538\n",
            "Epoch 106/180\n",
            "8/8 [==============================] - 0s 10ms/step - loss: 2.8319 - student_age_loss: 2.2135 - student_romantic_loss: 0.6185 - student_age_root_mean_squared_error: 1.4869 - student_romantic_accuracy: 0.6658 - val_loss: 5.9065 - val_student_age_loss: 5.2584 - val_student_romantic_loss: 0.6481 - val_student_age_root_mean_squared_error: 2.2931 - val_student_romantic_accuracy: 0.6538\n",
            "Epoch 107/180\n",
            "8/8 [==============================] - 0s 11ms/step - loss: 2.8986 - student_age_loss: 2.2866 - student_romantic_loss: 0.6121 - student_age_root_mean_squared_error: 1.5113 - student_romantic_accuracy: 0.6733 - val_loss: 5.8702 - val_student_age_loss: 5.2214 - val_student_romantic_loss: 0.6488 - val_student_age_root_mean_squared_error: 2.2850 - val_student_romantic_accuracy: 0.6538\n",
            "Epoch 108/180\n",
            "8/8 [==============================] - 0s 10ms/step - loss: 3.0311 - student_age_loss: 2.3918 - student_romantic_loss: 0.6393 - student_age_root_mean_squared_error: 1.5439 - student_romantic_accuracy: 0.6494 - val_loss: 5.8423 - val_student_age_loss: 5.1941 - val_student_romantic_loss: 0.6482 - val_student_age_root_mean_squared_error: 2.2791 - val_student_romantic_accuracy: 0.6667\n",
            "Epoch 109/180\n",
            "8/8 [==============================] - 0s 24ms/step - loss: 3.0169 - student_age_loss: 2.3775 - student_romantic_loss: 0.6394 - student_age_root_mean_squared_error: 1.5399 - student_romantic_accuracy: 0.6536 - val_loss: 5.8204 - val_student_age_loss: 5.1722 - val_student_romantic_loss: 0.6482 - val_student_age_root_mean_squared_error: 2.2743 - val_student_romantic_accuracy: 0.6667\n",
            "Epoch 110/180\n",
            "8/8 [==============================] - 0s 10ms/step - loss: 2.8205 - student_age_loss: 2.2050 - student_romantic_loss: 0.6154 - student_age_root_mean_squared_error: 1.4838 - student_romantic_accuracy: 0.7022 - val_loss: 5.8206 - val_student_age_loss: 5.1729 - val_student_romantic_loss: 0.6478 - val_student_age_root_mean_squared_error: 2.2744 - val_student_romantic_accuracy: 0.6667\n",
            "Epoch 111/180\n",
            "8/8 [==============================] - 0s 10ms/step - loss: 2.7909 - student_age_loss: 2.1776 - student_romantic_loss: 0.6133 - student_age_root_mean_squared_error: 1.4755 - student_romantic_accuracy: 0.6794 - val_loss: 5.8037 - val_student_age_loss: 5.1562 - val_student_romantic_loss: 0.6476 - val_student_age_root_mean_squared_error: 2.2707 - val_student_romantic_accuracy: 0.6667\n",
            "Epoch 112/180\n",
            "8/8 [==============================] - 0s 10ms/step - loss: 2.6145 - student_age_loss: 1.9733 - student_romantic_loss: 0.6412 - student_age_root_mean_squared_error: 1.4037 - student_romantic_accuracy: 0.6262 - val_loss: 5.8127 - val_student_age_loss: 5.1668 - val_student_romantic_loss: 0.6459 - val_student_age_root_mean_squared_error: 2.2731 - val_student_romantic_accuracy: 0.6795\n",
            "Epoch 113/180\n",
            "8/8 [==============================] - 0s 11ms/step - loss: 2.5215 - student_age_loss: 1.9122 - student_romantic_loss: 0.6092 - student_age_root_mean_squared_error: 1.3812 - student_romantic_accuracy: 0.6415 - val_loss: 5.7749 - val_student_age_loss: 5.1288 - val_student_romantic_loss: 0.6461 - val_student_age_root_mean_squared_error: 2.2647 - val_student_romantic_accuracy: 0.6795\n",
            "Epoch 114/180\n",
            "8/8 [==============================] - 0s 10ms/step - loss: 2.7374 - student_age_loss: 2.0937 - student_romantic_loss: 0.6437 - student_age_root_mean_squared_error: 1.4455 - student_romantic_accuracy: 0.6302 - val_loss: 5.7737 - val_student_age_loss: 5.1277 - val_student_romantic_loss: 0.6459 - val_student_age_root_mean_squared_error: 2.2644 - val_student_romantic_accuracy: 0.6923\n",
            "Epoch 115/180\n",
            "8/8 [==============================] - 0s 11ms/step - loss: 2.5650 - student_age_loss: 1.9458 - student_romantic_loss: 0.6192 - student_age_root_mean_squared_error: 1.3948 - student_romantic_accuracy: 0.6734 - val_loss: 5.7655 - val_student_age_loss: 5.1199 - val_student_romantic_loss: 0.6456 - val_student_age_root_mean_squared_error: 2.2627 - val_student_romantic_accuracy: 0.6795\n",
            "Epoch 116/180\n",
            "8/8 [==============================] - 0s 10ms/step - loss: 2.3512 - student_age_loss: 1.7235 - student_romantic_loss: 0.6277 - student_age_root_mean_squared_error: 1.3104 - student_romantic_accuracy: 0.6581 - val_loss: 5.7650 - val_student_age_loss: 5.1199 - val_student_romantic_loss: 0.6452 - val_student_age_root_mean_squared_error: 2.2627 - val_student_romantic_accuracy: 0.6795\n",
            "Epoch 117/180\n",
            "8/8 [==============================] - 0s 10ms/step - loss: 2.4749 - student_age_loss: 1.8353 - student_romantic_loss: 0.6396 - student_age_root_mean_squared_error: 1.3512 - student_romantic_accuracy: 0.6290 - val_loss: 5.7252 - val_student_age_loss: 5.0793 - val_student_romantic_loss: 0.6459 - val_student_age_root_mean_squared_error: 2.2537 - val_student_romantic_accuracy: 0.6795\n",
            "Epoch 118/180\n",
            "8/8 [==============================] - 0s 10ms/step - loss: 2.5486 - student_age_loss: 1.9268 - student_romantic_loss: 0.6218 - student_age_root_mean_squared_error: 1.3875 - student_romantic_accuracy: 0.6598 - val_loss: 5.7301 - val_student_age_loss: 5.0843 - val_student_romantic_loss: 0.6458 - val_student_age_root_mean_squared_error: 2.2548 - val_student_romantic_accuracy: 0.6795\n",
            "Epoch 119/180\n",
            "8/8 [==============================] - 0s 10ms/step - loss: 2.3782 - student_age_loss: 1.7724 - student_romantic_loss: 0.6058 - student_age_root_mean_squared_error: 1.3290 - student_romantic_accuracy: 0.6776 - val_loss: 5.7040 - val_student_age_loss: 5.0583 - val_student_romantic_loss: 0.6457 - val_student_age_root_mean_squared_error: 2.2491 - val_student_romantic_accuracy: 0.6795\n",
            "Epoch 120/180\n",
            "8/8 [==============================] - 0s 11ms/step - loss: 2.6161 - student_age_loss: 1.9737 - student_romantic_loss: 0.6425 - student_age_root_mean_squared_error: 1.4029 - student_romantic_accuracy: 0.6520 - val_loss: 5.7044 - val_student_age_loss: 5.0594 - val_student_romantic_loss: 0.6450 - val_student_age_root_mean_squared_error: 2.2493 - val_student_romantic_accuracy: 0.6795\n",
            "Epoch 121/180\n",
            "8/8 [==============================] - 0s 11ms/step - loss: 2.4466 - student_age_loss: 1.8149 - student_romantic_loss: 0.6317 - student_age_root_mean_squared_error: 1.3460 - student_romantic_accuracy: 0.6460 - val_loss: 5.6914 - val_student_age_loss: 5.0471 - val_student_romantic_loss: 0.6442 - val_student_age_root_mean_squared_error: 2.2466 - val_student_romantic_accuracy: 0.6795\n",
            "Epoch 122/180\n",
            "8/8 [==============================] - 0s 10ms/step - loss: 2.2788 - student_age_loss: 1.6818 - student_romantic_loss: 0.5970 - student_age_root_mean_squared_error: 1.2934 - student_romantic_accuracy: 0.6737 - val_loss: 5.6651 - val_student_age_loss: 5.0208 - val_student_romantic_loss: 0.6443 - val_student_age_root_mean_squared_error: 2.2407 - val_student_romantic_accuracy: 0.6795\n",
            "Epoch 123/180\n",
            "8/8 [==============================] - 0s 11ms/step - loss: 2.2288 - student_age_loss: 1.6128 - student_romantic_loss: 0.6160 - student_age_root_mean_squared_error: 1.2686 - student_romantic_accuracy: 0.6333 - val_loss: 5.6628 - val_student_age_loss: 5.0198 - val_student_romantic_loss: 0.6430 - val_student_age_root_mean_squared_error: 2.2405 - val_student_romantic_accuracy: 0.6795\n",
            "Epoch 124/180\n",
            "8/8 [==============================] - 0s 9ms/step - loss: 2.2256 - student_age_loss: 1.6376 - student_romantic_loss: 0.5880 - student_age_root_mean_squared_error: 1.2784 - student_romantic_accuracy: 0.6961 - val_loss: 5.6762 - val_student_age_loss: 5.0323 - val_student_romantic_loss: 0.6439 - val_student_age_root_mean_squared_error: 2.2433 - val_student_romantic_accuracy: 0.6795\n",
            "Epoch 125/180\n",
            "8/8 [==============================] - 0s 12ms/step - loss: 2.3970 - student_age_loss: 1.7750 - student_romantic_loss: 0.6220 - student_age_root_mean_squared_error: 1.3309 - student_romantic_accuracy: 0.6697 - val_loss: 5.6802 - val_student_age_loss: 5.0369 - val_student_romantic_loss: 0.6434 - val_student_age_root_mean_squared_error: 2.2443 - val_student_romantic_accuracy: 0.6795\n",
            "Epoch 126/180\n",
            "8/8 [==============================] - 0s 10ms/step - loss: 2.2492 - student_age_loss: 1.6295 - student_romantic_loss: 0.6197 - student_age_root_mean_squared_error: 1.2763 - student_romantic_accuracy: 0.6480 - val_loss: 5.6296 - val_student_age_loss: 4.9864 - val_student_romantic_loss: 0.6432 - val_student_age_root_mean_squared_error: 2.2330 - val_student_romantic_accuracy: 0.6667\n",
            "Epoch 127/180\n",
            "8/8 [==============================] - 0s 10ms/step - loss: 2.2175 - student_age_loss: 1.6016 - student_romantic_loss: 0.6159 - student_age_root_mean_squared_error: 1.2648 - student_romantic_accuracy: 0.6595 - val_loss: 5.6311 - val_student_age_loss: 4.9889 - val_student_romantic_loss: 0.6422 - val_student_age_root_mean_squared_error: 2.2336 - val_student_romantic_accuracy: 0.6795\n",
            "Epoch 128/180\n",
            "8/8 [==============================] - 0s 10ms/step - loss: 2.4029 - student_age_loss: 1.7975 - student_romantic_loss: 0.6054 - student_age_root_mean_squared_error: 1.3386 - student_romantic_accuracy: 0.6643 - val_loss: 5.6361 - val_student_age_loss: 4.9931 - val_student_romantic_loss: 0.6430 - val_student_age_root_mean_squared_error: 2.2345 - val_student_romantic_accuracy: 0.6667\n",
            "Epoch 129/180\n",
            "8/8 [==============================] - 0s 10ms/step - loss: 2.4045 - student_age_loss: 1.7940 - student_romantic_loss: 0.6104 - student_age_root_mean_squared_error: 1.3385 - student_romantic_accuracy: 0.6523 - val_loss: 5.5864 - val_student_age_loss: 4.9428 - val_student_romantic_loss: 0.6436 - val_student_age_root_mean_squared_error: 2.2232 - val_student_romantic_accuracy: 0.6667\n",
            "Epoch 130/180\n",
            "8/8 [==============================] - 0s 11ms/step - loss: 2.2334 - student_age_loss: 1.6095 - student_romantic_loss: 0.6239 - student_age_root_mean_squared_error: 1.2680 - student_romantic_accuracy: 0.6673 - val_loss: 5.5921 - val_student_age_loss: 4.9495 - val_student_romantic_loss: 0.6426 - val_student_age_root_mean_squared_error: 2.2248 - val_student_romantic_accuracy: 0.6667\n",
            "Epoch 131/180\n",
            "8/8 [==============================] - 0s 10ms/step - loss: 2.1210 - student_age_loss: 1.4977 - student_romantic_loss: 0.6233 - student_age_root_mean_squared_error: 1.2214 - student_romantic_accuracy: 0.6591 - val_loss: 5.5542 - val_student_age_loss: 4.9127 - val_student_romantic_loss: 0.6416 - val_student_age_root_mean_squared_error: 2.2165 - val_student_romantic_accuracy: 0.6667\n",
            "Epoch 132/180\n",
            "8/8 [==============================] - 0s 10ms/step - loss: 2.2054 - student_age_loss: 1.6104 - student_romantic_loss: 0.5951 - student_age_root_mean_squared_error: 1.2673 - student_romantic_accuracy: 0.7079 - val_loss: 5.5349 - val_student_age_loss: 4.8927 - val_student_romantic_loss: 0.6422 - val_student_age_root_mean_squared_error: 2.2119 - val_student_romantic_accuracy: 0.6667\n",
            "Epoch 133/180\n",
            "8/8 [==============================] - 0s 10ms/step - loss: 2.0936 - student_age_loss: 1.4591 - student_romantic_loss: 0.6345 - student_age_root_mean_squared_error: 1.2076 - student_romantic_accuracy: 0.6450 - val_loss: 5.5321 - val_student_age_loss: 4.8909 - val_student_romantic_loss: 0.6411 - val_student_age_root_mean_squared_error: 2.2115 - val_student_romantic_accuracy: 0.6667\n",
            "Epoch 134/180\n",
            "8/8 [==============================] - 0s 10ms/step - loss: 2.2280 - student_age_loss: 1.5955 - student_romantic_loss: 0.6325 - student_age_root_mean_squared_error: 1.2609 - student_romantic_accuracy: 0.6377 - val_loss: 5.5360 - val_student_age_loss: 4.8955 - val_student_romantic_loss: 0.6405 - val_student_age_root_mean_squared_error: 2.2126 - val_student_romantic_accuracy: 0.6795\n",
            "Epoch 135/180\n",
            "8/8 [==============================] - 0s 10ms/step - loss: 1.8052 - student_age_loss: 1.2076 - student_romantic_loss: 0.5976 - student_age_root_mean_squared_error: 1.0943 - student_romantic_accuracy: 0.6834 - val_loss: 5.5296 - val_student_age_loss: 4.8880 - val_student_romantic_loss: 0.6416 - val_student_age_root_mean_squared_error: 2.2109 - val_student_romantic_accuracy: 0.6667\n",
            "Epoch 136/180\n",
            "8/8 [==============================] - 0s 10ms/step - loss: 2.1639 - student_age_loss: 1.5623 - student_romantic_loss: 0.6015 - student_age_root_mean_squared_error: 1.2466 - student_romantic_accuracy: 0.6979 - val_loss: 5.5321 - val_student_age_loss: 4.8911 - val_student_romantic_loss: 0.6410 - val_student_age_root_mean_squared_error: 2.2116 - val_student_romantic_accuracy: 0.6667\n",
            "Epoch 137/180\n",
            "8/8 [==============================] - 0s 10ms/step - loss: 1.9366 - student_age_loss: 1.3274 - student_romantic_loss: 0.6092 - student_age_root_mean_squared_error: 1.1517 - student_romantic_accuracy: 0.6572 - val_loss: 5.4660 - val_student_age_loss: 4.8247 - val_student_romantic_loss: 0.6413 - val_student_age_root_mean_squared_error: 2.1965 - val_student_romantic_accuracy: 0.6667\n",
            "Epoch 138/180\n",
            "8/8 [==============================] - 0s 10ms/step - loss: 1.8565 - student_age_loss: 1.2404 - student_romantic_loss: 0.6161 - student_age_root_mean_squared_error: 1.1126 - student_romantic_accuracy: 0.6638 - val_loss: 5.4702 - val_student_age_loss: 4.8299 - val_student_romantic_loss: 0.6403 - val_student_age_root_mean_squared_error: 2.1977 - val_student_romantic_accuracy: 0.6667\n",
            "Epoch 139/180\n",
            "8/8 [==============================] - 0s 11ms/step - loss: 1.8738 - student_age_loss: 1.2832 - student_romantic_loss: 0.5906 - student_age_root_mean_squared_error: 1.1323 - student_romantic_accuracy: 0.7001 - val_loss: 5.4989 - val_student_age_loss: 4.8587 - val_student_romantic_loss: 0.6402 - val_student_age_root_mean_squared_error: 2.2042 - val_student_romantic_accuracy: 0.6667\n",
            "Epoch 140/180\n",
            "8/8 [==============================] - 0s 9ms/step - loss: 1.9730 - student_age_loss: 1.3561 - student_romantic_loss: 0.6169 - student_age_root_mean_squared_error: 1.1638 - student_romantic_accuracy: 0.6367 - val_loss: 5.4807 - val_student_age_loss: 4.8419 - val_student_romantic_loss: 0.6389 - val_student_age_root_mean_squared_error: 2.2004 - val_student_romantic_accuracy: 0.6795\n",
            "Epoch 141/180\n",
            "8/8 [==============================] - 0s 10ms/step - loss: 1.9416 - student_age_loss: 1.3501 - student_romantic_loss: 0.5915 - student_age_root_mean_squared_error: 1.1614 - student_romantic_accuracy: 0.6848 - val_loss: 5.4468 - val_student_age_loss: 4.8065 - val_student_romantic_loss: 0.6403 - val_student_age_root_mean_squared_error: 2.1924 - val_student_romantic_accuracy: 0.6667\n",
            "Epoch 142/180\n",
            "8/8 [==============================] - 0s 8ms/step - loss: 1.8126 - student_age_loss: 1.2295 - student_romantic_loss: 0.5832 - student_age_root_mean_squared_error: 1.1067 - student_romantic_accuracy: 0.7164 - val_loss: 5.4634 - val_student_age_loss: 4.8220 - val_student_romantic_loss: 0.6414 - val_student_age_root_mean_squared_error: 2.1959 - val_student_romantic_accuracy: 0.6667\n",
            "Epoch 143/180\n",
            "8/8 [==============================] - 0s 10ms/step - loss: 1.8581 - student_age_loss: 1.2681 - student_romantic_loss: 0.5901 - student_age_root_mean_squared_error: 1.1258 - student_romantic_accuracy: 0.6966 - val_loss: 5.4338 - val_student_age_loss: 4.7917 - val_student_romantic_loss: 0.6421 - val_student_age_root_mean_squared_error: 2.1890 - val_student_romantic_accuracy: 0.6538\n",
            "Epoch 144/180\n",
            "8/8 [==============================] - 0s 10ms/step - loss: 1.8964 - student_age_loss: 1.2982 - student_romantic_loss: 0.5982 - student_age_root_mean_squared_error: 1.1389 - student_romantic_accuracy: 0.6892 - val_loss: 5.4592 - val_student_age_loss: 4.8175 - val_student_romantic_loss: 0.6417 - val_student_age_root_mean_squared_error: 2.1949 - val_student_romantic_accuracy: 0.6538\n",
            "Epoch 145/180\n",
            "8/8 [==============================] - 0s 10ms/step - loss: 1.7333 - student_age_loss: 1.1494 - student_romantic_loss: 0.5839 - student_age_root_mean_squared_error: 1.0715 - student_romantic_accuracy: 0.7161 - val_loss: 5.4036 - val_student_age_loss: 4.7609 - val_student_romantic_loss: 0.6427 - val_student_age_root_mean_squared_error: 2.1820 - val_student_romantic_accuracy: 0.6667\n",
            "Epoch 146/180\n",
            "8/8 [==============================] - 0s 10ms/step - loss: 1.8369 - student_age_loss: 1.2116 - student_romantic_loss: 0.6253 - student_age_root_mean_squared_error: 1.0987 - student_romantic_accuracy: 0.6656 - val_loss: 5.3954 - val_student_age_loss: 4.7535 - val_student_romantic_loss: 0.6419 - val_student_age_root_mean_squared_error: 2.1803 - val_student_romantic_accuracy: 0.6538\n",
            "Epoch 147/180\n",
            "8/8 [==============================] - 0s 10ms/step - loss: 1.8144 - student_age_loss: 1.2251 - student_romantic_loss: 0.5893 - student_age_root_mean_squared_error: 1.1062 - student_romantic_accuracy: 0.7033 - val_loss: 5.4121 - val_student_age_loss: 4.7715 - val_student_romantic_loss: 0.6406 - val_student_age_root_mean_squared_error: 2.1844 - val_student_romantic_accuracy: 0.6538\n",
            "Epoch 148/180\n",
            "8/8 [==============================] - 0s 10ms/step - loss: 1.7677 - student_age_loss: 1.1801 - student_romantic_loss: 0.5876 - student_age_root_mean_squared_error: 1.0856 - student_romantic_accuracy: 0.7070 - val_loss: 5.4129 - val_student_age_loss: 4.7726 - val_student_romantic_loss: 0.6403 - val_student_age_root_mean_squared_error: 2.1846 - val_student_romantic_accuracy: 0.6538\n",
            "Epoch 149/180\n",
            "8/8 [==============================] - 0s 11ms/step - loss: 1.7244 - student_age_loss: 1.1399 - student_romantic_loss: 0.5845 - student_age_root_mean_squared_error: 1.0672 - student_romantic_accuracy: 0.6759 - val_loss: 5.3629 - val_student_age_loss: 4.7221 - val_student_romantic_loss: 0.6408 - val_student_age_root_mean_squared_error: 2.1730 - val_student_romantic_accuracy: 0.6538\n",
            "Epoch 150/180\n",
            "8/8 [==============================] - 0s 10ms/step - loss: 1.8359 - student_age_loss: 1.2545 - student_romantic_loss: 0.5813 - student_age_root_mean_squared_error: 1.1188 - student_romantic_accuracy: 0.6976 - val_loss: 5.3215 - val_student_age_loss: 4.6801 - val_student_romantic_loss: 0.6413 - val_student_age_root_mean_squared_error: 2.1634 - val_student_romantic_accuracy: 0.6667\n",
            "Epoch 151/180\n",
            "8/8 [==============================] - 0s 11ms/step - loss: 1.8540 - student_age_loss: 1.2561 - student_romantic_loss: 0.5979 - student_age_root_mean_squared_error: 1.1183 - student_romantic_accuracy: 0.6736 - val_loss: 5.3364 - val_student_age_loss: 4.6966 - val_student_romantic_loss: 0.6398 - val_student_age_root_mean_squared_error: 2.1672 - val_student_romantic_accuracy: 0.6538\n",
            "Epoch 152/180\n",
            "8/8 [==============================] - 0s 10ms/step - loss: 1.6856 - student_age_loss: 1.1006 - student_romantic_loss: 0.5850 - student_age_root_mean_squared_error: 1.0486 - student_romantic_accuracy: 0.7007 - val_loss: 5.3706 - val_student_age_loss: 4.7311 - val_student_romantic_loss: 0.6395 - val_student_age_root_mean_squared_error: 2.1751 - val_student_romantic_accuracy: 0.6538\n",
            "Epoch 153/180\n",
            "8/8 [==============================] - 0s 11ms/step - loss: 1.7316 - student_age_loss: 1.1433 - student_romantic_loss: 0.5883 - student_age_root_mean_squared_error: 1.0690 - student_romantic_accuracy: 0.6906 - val_loss: 5.3457 - val_student_age_loss: 4.7057 - val_student_romantic_loss: 0.6400 - val_student_age_root_mean_squared_error: 2.1693 - val_student_romantic_accuracy: 0.6538\n",
            "Epoch 154/180\n",
            "8/8 [==============================] - 0s 24ms/step - loss: 1.6674 - student_age_loss: 1.0870 - student_romantic_loss: 0.5803 - student_age_root_mean_squared_error: 1.0425 - student_romantic_accuracy: 0.7065 - val_loss: 5.3295 - val_student_age_loss: 4.6890 - val_student_romantic_loss: 0.6405 - val_student_age_root_mean_squared_error: 2.1654 - val_student_romantic_accuracy: 0.6667\n",
            "Epoch 155/180\n",
            "8/8 [==============================] - 0s 9ms/step - loss: 1.6381 - student_age_loss: 1.0407 - student_romantic_loss: 0.5974 - student_age_root_mean_squared_error: 1.0194 - student_romantic_accuracy: 0.6710 - val_loss: 5.2927 - val_student_age_loss: 4.6529 - val_student_romantic_loss: 0.6398 - val_student_age_root_mean_squared_error: 2.1571 - val_student_romantic_accuracy: 0.6538\n",
            "Epoch 156/180\n",
            "8/8 [==============================] - 0s 9ms/step - loss: 1.6693 - student_age_loss: 1.0706 - student_romantic_loss: 0.5987 - student_age_root_mean_squared_error: 1.0345 - student_romantic_accuracy: 0.6535 - val_loss: 5.3175 - val_student_age_loss: 4.6781 - val_student_romantic_loss: 0.6394 - val_student_age_root_mean_squared_error: 2.1629 - val_student_romantic_accuracy: 0.6667\n",
            "Epoch 157/180\n",
            "8/8 [==============================] - 0s 10ms/step - loss: 1.6042 - student_age_loss: 1.0230 - student_romantic_loss: 0.5812 - student_age_root_mean_squared_error: 1.0110 - student_romantic_accuracy: 0.6738 - val_loss: 5.3035 - val_student_age_loss: 4.6639 - val_student_romantic_loss: 0.6396 - val_student_age_root_mean_squared_error: 2.1596 - val_student_romantic_accuracy: 0.6538\n",
            "Epoch 158/180\n",
            "8/8 [==============================] - 0s 8ms/step - loss: 1.5314 - student_age_loss: 0.9388 - student_romantic_loss: 0.5926 - student_age_root_mean_squared_error: 0.9653 - student_romantic_accuracy: 0.6751 - val_loss: 5.2683 - val_student_age_loss: 4.6292 - val_student_romantic_loss: 0.6391 - val_student_age_root_mean_squared_error: 2.1516 - val_student_romantic_accuracy: 0.6538\n",
            "Epoch 159/180\n",
            "8/8 [==============================] - 0s 10ms/step - loss: 1.7498 - student_age_loss: 1.1800 - student_romantic_loss: 0.5698 - student_age_root_mean_squared_error: 1.0824 - student_romantic_accuracy: 0.7125 - val_loss: 5.2597 - val_student_age_loss: 4.6191 - val_student_romantic_loss: 0.6406 - val_student_age_root_mean_squared_error: 2.1492 - val_student_romantic_accuracy: 0.6667\n",
            "Epoch 160/180\n",
            "8/8 [==============================] - 0s 10ms/step - loss: 1.6180 - student_age_loss: 1.0307 - student_romantic_loss: 0.5874 - student_age_root_mean_squared_error: 1.0149 - student_romantic_accuracy: 0.6747 - val_loss: 5.2522 - val_student_age_loss: 4.6126 - val_student_romantic_loss: 0.6395 - val_student_age_root_mean_squared_error: 2.1477 - val_student_romantic_accuracy: 0.6538\n",
            "Epoch 161/180\n",
            "8/8 [==============================] - 0s 10ms/step - loss: 1.4555 - student_age_loss: 0.8862 - student_romantic_loss: 0.5693 - student_age_root_mean_squared_error: 0.9401 - student_romantic_accuracy: 0.7303 - val_loss: 5.2424 - val_student_age_loss: 4.6012 - val_student_romantic_loss: 0.6412 - val_student_age_root_mean_squared_error: 2.1450 - val_student_romantic_accuracy: 0.6667\n",
            "Epoch 162/180\n",
            "8/8 [==============================] - 0s 10ms/step - loss: 1.6066 - student_age_loss: 1.0242 - student_romantic_loss: 0.5824 - student_age_root_mean_squared_error: 1.0108 - student_romantic_accuracy: 0.6642 - val_loss: 5.2479 - val_student_age_loss: 4.6074 - val_student_romantic_loss: 0.6405 - val_student_age_root_mean_squared_error: 2.1465 - val_student_romantic_accuracy: 0.6538\n",
            "Epoch 163/180\n",
            "8/8 [==============================] - 0s 10ms/step - loss: 1.4372 - student_age_loss: 0.8816 - student_romantic_loss: 0.5556 - student_age_root_mean_squared_error: 0.9385 - student_romantic_accuracy: 0.7266 - val_loss: 5.2637 - val_student_age_loss: 4.6224 - val_student_romantic_loss: 0.6412 - val_student_age_root_mean_squared_error: 2.1500 - val_student_romantic_accuracy: 0.6538\n",
            "Epoch 164/180\n",
            "8/8 [==============================] - 0s 10ms/step - loss: 1.4937 - student_age_loss: 0.9139 - student_romantic_loss: 0.5798 - student_age_root_mean_squared_error: 0.9545 - student_romantic_accuracy: 0.7078 - val_loss: 5.2303 - val_student_age_loss: 4.5896 - val_student_romantic_loss: 0.6407 - val_student_age_root_mean_squared_error: 2.1423 - val_student_romantic_accuracy: 0.6667\n",
            "Epoch 165/180\n",
            "8/8 [==============================] - 0s 11ms/step - loss: 1.4573 - student_age_loss: 0.8867 - student_romantic_loss: 0.5706 - student_age_root_mean_squared_error: 0.9415 - student_romantic_accuracy: 0.6965 - val_loss: 5.2151 - val_student_age_loss: 4.5749 - val_student_romantic_loss: 0.6401 - val_student_age_root_mean_squared_error: 2.1389 - val_student_romantic_accuracy: 0.6667\n",
            "Epoch 166/180\n",
            "8/8 [==============================] - 0s 9ms/step - loss: 1.3807 - student_age_loss: 0.8121 - student_romantic_loss: 0.5687 - student_age_root_mean_squared_error: 0.8995 - student_romantic_accuracy: 0.6964 - val_loss: 5.2146 - val_student_age_loss: 4.5748 - val_student_romantic_loss: 0.6398 - val_student_age_root_mean_squared_error: 2.1389 - val_student_romantic_accuracy: 0.6667\n",
            "Epoch 167/180\n",
            "8/8 [==============================] - 0s 9ms/step - loss: 1.3973 - student_age_loss: 0.8076 - student_romantic_loss: 0.5898 - student_age_root_mean_squared_error: 0.8984 - student_romantic_accuracy: 0.6689 - val_loss: 5.1996 - val_student_age_loss: 4.5605 - val_student_romantic_loss: 0.6390 - val_student_age_root_mean_squared_error: 2.1355 - val_student_romantic_accuracy: 0.6538\n",
            "Epoch 168/180\n",
            "8/8 [==============================] - 0s 9ms/step - loss: 1.2791 - student_age_loss: 0.6947 - student_romantic_loss: 0.5844 - student_age_root_mean_squared_error: 0.8290 - student_romantic_accuracy: 0.6982 - val_loss: 5.2184 - val_student_age_loss: 4.5795 - val_student_romantic_loss: 0.6389 - val_student_age_root_mean_squared_error: 2.1400 - val_student_romantic_accuracy: 0.6538\n",
            "Epoch 169/180\n",
            "8/8 [==============================] - 0s 8ms/step - loss: 1.4027 - student_age_loss: 0.8301 - student_romantic_loss: 0.5726 - student_age_root_mean_squared_error: 0.9101 - student_romantic_accuracy: 0.6841 - val_loss: 5.1826 - val_student_age_loss: 4.5433 - val_student_romantic_loss: 0.6393 - val_student_age_root_mean_squared_error: 2.1315 - val_student_romantic_accuracy: 0.6538\n",
            "Epoch 170/180\n",
            "8/8 [==============================] - 0s 9ms/step - loss: 1.3559 - student_age_loss: 0.7675 - student_romantic_loss: 0.5884 - student_age_root_mean_squared_error: 0.8751 - student_romantic_accuracy: 0.6603 - val_loss: 5.1947 - val_student_age_loss: 4.5544 - val_student_romantic_loss: 0.6403 - val_student_age_root_mean_squared_error: 2.1341 - val_student_romantic_accuracy: 0.6667\n",
            "Epoch 171/180\n",
            "8/8 [==============================] - 0s 9ms/step - loss: 1.3506 - student_age_loss: 0.7818 - student_romantic_loss: 0.5688 - student_age_root_mean_squared_error: 0.8832 - student_romantic_accuracy: 0.6882 - val_loss: 5.1824 - val_student_age_loss: 4.5422 - val_student_romantic_loss: 0.6402 - val_student_age_root_mean_squared_error: 2.1312 - val_student_romantic_accuracy: 0.6667\n",
            "Epoch 172/180\n",
            "8/8 [==============================] - 0s 9ms/step - loss: 1.2667 - student_age_loss: 0.6927 - student_romantic_loss: 0.5740 - student_age_root_mean_squared_error: 0.8304 - student_romantic_accuracy: 0.6653 - val_loss: 5.1841 - val_student_age_loss: 4.5442 - val_student_romantic_loss: 0.6399 - val_student_age_root_mean_squared_error: 2.1317 - val_student_romantic_accuracy: 0.6667\n",
            "Epoch 173/180\n",
            "8/8 [==============================] - 0s 8ms/step - loss: 1.3975 - student_age_loss: 0.8084 - student_romantic_loss: 0.5891 - student_age_root_mean_squared_error: 0.8989 - student_romantic_accuracy: 0.6611 - val_loss: 5.1466 - val_student_age_loss: 4.5064 - val_student_romantic_loss: 0.6402 - val_student_age_root_mean_squared_error: 2.1228 - val_student_romantic_accuracy: 0.6667\n",
            "Epoch 174/180\n",
            "8/8 [==============================] - 0s 10ms/step - loss: 1.3617 - student_age_loss: 0.7625 - student_romantic_loss: 0.5992 - student_age_root_mean_squared_error: 0.8730 - student_romantic_accuracy: 0.6548 - val_loss: 5.1276 - val_student_age_loss: 4.4876 - val_student_romantic_loss: 0.6400 - val_student_age_root_mean_squared_error: 2.1184 - val_student_romantic_accuracy: 0.6667\n",
            "Epoch 175/180\n",
            "8/8 [==============================] - 0s 10ms/step - loss: 1.2834 - student_age_loss: 0.7024 - student_romantic_loss: 0.5810 - student_age_root_mean_squared_error: 0.8372 - student_romantic_accuracy: 0.6682 - val_loss: 5.1214 - val_student_age_loss: 4.4801 - val_student_romantic_loss: 0.6413 - val_student_age_root_mean_squared_error: 2.1166 - val_student_romantic_accuracy: 0.6795\n",
            "Epoch 176/180\n",
            "8/8 [==============================] - 0s 10ms/step - loss: 1.3005 - student_age_loss: 0.7321 - student_romantic_loss: 0.5683 - student_age_root_mean_squared_error: 0.8548 - student_romantic_accuracy: 0.7214 - val_loss: 5.1747 - val_student_age_loss: 4.5331 - val_student_romantic_loss: 0.6416 - val_student_age_root_mean_squared_error: 2.1291 - val_student_romantic_accuracy: 0.6795\n",
            "Epoch 177/180\n",
            "8/8 [==============================] - 0s 11ms/step - loss: 1.3516 - student_age_loss: 0.7890 - student_romantic_loss: 0.5626 - student_age_root_mean_squared_error: 0.8877 - student_romantic_accuracy: 0.6873 - val_loss: 5.1064 - val_student_age_loss: 4.4643 - val_student_romantic_loss: 0.6421 - val_student_age_root_mean_squared_error: 2.1129 - val_student_romantic_accuracy: 0.6667\n",
            "Epoch 178/180\n",
            "8/8 [==============================] - 0s 10ms/step - loss: 1.3128 - student_age_loss: 0.7233 - student_romantic_loss: 0.5895 - student_age_root_mean_squared_error: 0.8503 - student_romantic_accuracy: 0.6689 - val_loss: 5.1517 - val_student_age_loss: 4.5104 - val_student_romantic_loss: 0.6413 - val_student_age_root_mean_squared_error: 2.1238 - val_student_romantic_accuracy: 0.6667\n",
            "Epoch 179/180\n",
            "8/8 [==============================] - 0s 10ms/step - loss: 1.1471 - student_age_loss: 0.5752 - student_romantic_loss: 0.5719 - student_age_root_mean_squared_error: 0.7537 - student_romantic_accuracy: 0.6812 - val_loss: 5.1247 - val_student_age_loss: 4.4830 - val_student_romantic_loss: 0.6417 - val_student_age_root_mean_squared_error: 2.1173 - val_student_romantic_accuracy: 0.6795\n",
            "Epoch 180/180\n",
            "8/8 [==============================] - 0s 11ms/step - loss: 1.1832 - student_age_loss: 0.6138 - student_romantic_loss: 0.5695 - student_age_root_mean_squared_error: 0.7810 - student_romantic_accuracy: 0.7056 - val_loss: 5.1361 - val_student_age_loss: 4.4946 - val_student_romantic_loss: 0.6416 - val_student_age_root_mean_squared_error: 2.1200 - val_student_romantic_accuracy: 0.6795\n"
          ],
          "name": "stdout"
        }
      ]
    },
    {
      "cell_type": "code",
      "metadata": {
        "colab": {
          "base_uri": "https://localhost:8080/"
        },
        "id": "lQfwMaBhUL3F",
        "outputId": "febdbf63-88ae-4732-f76d-eb3fcd9cc040"
      },
      "source": [
        "# Gather the training metrics\r\n",
        "loss, student_age_loss, student_romantic_loss, student_age_rmse, student_romantic_accuracy = model.evaluate(x=norm_val_X, y=val_Y)\r\n",
        "\r\n",
        "print()\r\n",
        "print(f'loss: {loss}')\r\n",
        "print(f'student_age_loss: {student_age_loss}')\r\n",
        "print(f'student_romantic_loss: {student_romantic_loss}')\r\n",
        "print(f'student_age_rmse: {student_age_rmse}')\r\n",
        "print(f'student_romantic_accuracy: {student_romantic_accuracy}')"
      ],
      "execution_count": 23,
      "outputs": [
        {
          "output_type": "stream",
          "text": [
            "2/2 [==============================] - 0s 4ms/step - loss: 4.8782 - student_age_loss: 4.2166 - student_romantic_loss: 0.6616 - student_age_root_mean_squared_error: 2.0534 - student_romantic_accuracy: 0.6190\n",
            "\n",
            "loss: 4.878199577331543\n",
            "student_age_loss: 4.216577053070068\n",
            "student_romantic_loss: 0.6616226434707642\n",
            "student_age_rmse: 2.0534305572509766\n",
            "student_romantic_accuracy: 0.6190476417541504\n"
          ],
          "name": "stdout"
        }
      ]
    },
    {
      "cell_type": "markdown",
      "metadata": {
        "id": "e9BOqt-7UUi7"
      },
      "source": [
        "## Analyze the Model Performance\r\n",
        "The model has two outputs. The output at index 0 is student age and index 1 is student romantic status\r\n"
      ]
    },
    {
      "cell_type": "code",
      "metadata": {
        "id": "Ez_HktL7UXPA"
      },
      "source": [
        "predictions = model.predict(norm_test_X)\r\n",
        "age_pred = predictions[0]\r\n",
        "romantic_pred = predictions[1]"
      ],
      "execution_count": 27,
      "outputs": []
    },
    {
      "cell_type": "code",
      "metadata": {
        "colab": {
          "base_uri": "https://localhost:8080/"
        },
        "id": "VVkTN-qDUeTr",
        "outputId": "1a6638af-2b45-4d36-c16b-4fe420472b7c"
      },
      "source": [
        "print(age_pred[0])\r\n",
        "print(romantic_pred[0])"
      ],
      "execution_count": 29,
      "outputs": [
        {
          "output_type": "stream",
          "text": [
            "[18.337074]\n",
            "[0.30230904]\n"
          ],
          "name": "stdout"
        }
      ]
    },
    {
      "cell_type": "code",
      "metadata": {
        "colab": {
          "base_uri": "https://localhost:8080/"
        },
        "id": "PWtolHxpWFfp",
        "outputId": "ce8fcef4-d272-43ec-c069-8dc36048dbed"
      },
      "source": [
        "print(type_pred[9])"
      ],
      "execution_count": 30,
      "outputs": [
        {
          "output_type": "stream",
          "text": [
            "[0.38243055]\n"
          ],
          "name": "stdout"
        }
      ]
    },
    {
      "cell_type": "markdown",
      "metadata": {
        "id": "fbD89T3rUnz6"
      },
      "source": [
        "### Plot Utilities\r\n",
        "\r\n",
        "We define a few utilities to visualize the model performance."
      ]
    },
    {
      "cell_type": "code",
      "metadata": {
        "id": "Br4HVjr0Uoqz"
      },
      "source": [
        "def plot_metrics(metric_name, title, ylim=5):\r\n",
        "    plt.title(title)\r\n",
        "    plt.ylim(0,ylim)\r\n",
        "    plt.plot(history.history[metric_name],color='blue',label=metric_name)\r\n",
        "    plt.plot(history.history['val_' + metric_name],color='green',label='val_' + metric_name)"
      ],
      "execution_count": 31,
      "outputs": []
    },
    {
      "cell_type": "code",
      "metadata": {
        "id": "SF0j5A2xUrxD"
      },
      "source": [
        "def plot_confusion_matrix(y_true, y_pred, title='', labels=[0,1]):\r\n",
        "    cm = confusion_matrix(y_true, y_pred)\r\n",
        "    fig = plt.figure()\r\n",
        "    ax = fig.add_subplot(111)\r\n",
        "    cax = ax.matshow(cm)\r\n",
        "    plt.title('Confusion matrix of the classifier')\r\n",
        "    fig.colorbar(cax)\r\n",
        "    ax.set_xticklabels([''] + labels)\r\n",
        "    ax.set_yticklabels([''] + labels)\r\n",
        "    plt.xlabel('Predicted')\r\n",
        "    plt.ylabel('True')\r\n",
        "    fmt = 'd'\r\n",
        "    thresh = cm.max() / 2.\r\n",
        "    for i, j in itertools.product(range(cm.shape[0]), range(cm.shape[1])):\r\n",
        "          plt.text(j, i, format(cm[i, j], fmt),\r\n",
        "                  horizontalalignment=\"center\",\r\n",
        "                  color=\"black\" if cm[i, j] > thresh else \"white\")\r\n",
        "    plt.show()"
      ],
      "execution_count": 32,
      "outputs": []
    },
    {
      "cell_type": "code",
      "metadata": {
        "id": "3yxKLPc_Ut5C"
      },
      "source": [
        "def plot_diff(y_true, y_pred, title = '' ):\r\n",
        "    plt.scatter(y_true, y_pred)\r\n",
        "    plt.title(title)\r\n",
        "    plt.xlabel('True Values')\r\n",
        "    plt.ylabel('Predictions')\r\n",
        "    plt.axis('equal')\r\n",
        "    plt.axis('square')\r\n",
        "    plt.plot([-100, 100], [-100, 100])\r\n",
        "    return plt"
      ],
      "execution_count": 33,
      "outputs": []
    },
    {
      "cell_type": "markdown",
      "metadata": {
        "id": "h8yCXxdxUygK"
      },
      "source": [
        "### Plots for Metrics"
      ]
    },
    {
      "cell_type": "code",
      "metadata": {
        "colab": {
          "base_uri": "https://localhost:8080/",
          "height": 281
        },
        "id": "GhtWu7BGUzgi",
        "outputId": "41254c58-0071-4adb-8153-bf822d9538c0"
      },
      "source": [
        "plot_metrics('student_age_loss', 'RMSE', ylim=10)"
      ],
      "execution_count": 40,
      "outputs": [
        {
          "output_type": "display_data",
          "data": {
            "image/png": "[encoded data removed]",
            "text/plain": [
              "<Figure size 432x288 with 1 Axes>"
            ]
          },
          "metadata": {
            "tags": [],
            "needs_background": "light"
          }
        }
      ]
    },
    {
      "cell_type": "code",
      "metadata": {
        "colab": {
          "base_uri": "https://localhost:8080/",
          "height": 281
        },
        "id": "nFtvKfR-Uz5r",
        "outputId": "78a9142a-66f2-4c91-bc58-f2419c6e4cec"
      },
      "source": [
        "plot_metrics('student_romantic_loss', 'student_romantic_loss', ylim=0.8)"
      ],
      "execution_count": 43,
      "outputs": [
        {
          "output_type": "display_data",
          "data": {
            "image/png": "[encoded data removed]",
            "text/plain": [
              "<Figure size 432x288 with 1 Axes>"
            ]
          },
          "metadata": {
            "tags": [],
            "needs_background": "light"
          }
        }
      ]
    },
    {
      "cell_type": "markdown",
      "metadata": {
        "id": "9oC8JtznU6H-"
      },
      "source": [
        "### Plots for Confusion Matrix\r\n",
        "\r\n",
        "Plot the confusion matrices for student romantic status. We can see that the model performs well for prediction of romantic from the confusion matrix and the loss metrics."
      ]
    },
    {
      "cell_type": "code",
      "metadata": {
        "colab": {
          "base_uri": "https://localhost:8080/",
          "height": 288
        },
        "id": "iA6bpVHOU6v4",
        "outputId": "ee042ec1-1fb1-4e5c-a345-2aaea7211b3b"
      },
      "source": [
        "plot_confusion_matrix(test_Y[1], np.round(type_pred), title='Wine Type', labels = [0, 1])"
      ],
      "execution_count": 44,
      "outputs": [
        {
          "output_type": "display_data",
          "data": {
            "image/png": "[encoded data removed]",
            "text/plain": [
              "<Figure size 432x288 with 2 Axes>"
            ]
          },
          "metadata": {
            "tags": [],
            "needs_background": "light"
          }
        }
      ]
    },
    {
      "cell_type": "code",
      "metadata": {
        "colab": {
          "base_uri": "https://localhost:8080/",
          "height": 294
        },
        "id": "2KuoLlT8U_GB",
        "outputId": "b87fe542-90b3-4533-8fe4-730148a7c81f"
      },
      "source": [
        "scatter_plot = plot_diff(test_Y[0], quality_pred, title='Type')"
      ],
      "execution_count": 45,
      "outputs": [
        {
          "output_type": "display_data",
          "data": {
            "image/png": "[encoded data removed]",
            "text/plain": [
              "<Figure size 432x288 with 1 Axes>"
            ]
          },
          "metadata": {
            "tags": [],
            "needs_background": "light"
          }
        }
      ]
    }
  ]
}